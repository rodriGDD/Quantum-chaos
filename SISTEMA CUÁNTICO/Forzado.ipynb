{
 "cells": [
  {
   "cell_type": "code",
   "execution_count": 1,
   "metadata": {},
   "outputs": [
    {
     "name": "stderr",
     "output_type": "stream",
     "text": [
      "\n",
      "KeyboardInterrupt\n",
      "\n"
     ]
    }
   ],
   "source": [
    "from qutip import *\n",
    "import math as math\n",
    "import numpy as np\n",
    "import matplotlib.pyplot as plt\n",
    "import matplotlib as mpl\n",
    "from matplotlib import cm\n",
    "import scipy as scipy\n",
    "import matplotlib.animation as animation\n",
    "from tqdm import tqdm\n",
    "import sys"
   ]
  },
  {
   "attachments": {},
   "cell_type": "markdown",
   "metadata": {},
   "source": [
    "Parámetros del sistema"
   ]
  },
  {
   "cell_type": "code",
   "execution_count": null,
   "metadata": {},
   "outputs": [],
   "source": [
    "w_0 = 1 # Frecuencia natural x>0\n",
    "W_0 = 5 # Frecuencia natural x<0\n",
    "amort = 0 # constante de amortiguamiento\n",
    "f_0 = 0 # Amplitud de la fuerza por unidad de masa\n",
    "m = 1 # masa del oscilador\n",
    "N = 150 # Numero de fonones"
   ]
  },
  {
   "attachments": {},
   "cell_type": "markdown",
   "metadata": {},
   "source": [
    "Frecuencia natural del oscilador"
   ]
  },
  {
   "cell_type": "code",
   "execution_count": null,
   "metadata": {},
   "outputs": [],
   "source": [
    "def W(x): # frecuecia angular\n",
    "    return W_0 - (W_0-w_0)*np.heaviside(x,w_0)"
   ]
  },
  {
   "attachments": {},
   "cell_type": "markdown",
   "metadata": {},
   "source": [
    "Desarrollo del potencial en la base de autoestados del oscilador armónico cuántico"
   ]
  },
  {
   "cell_type": "code",
   "execution_count": null,
   "metadata": {},
   "outputs": [],
   "source": [
    "def U(x):\n",
    "    return 0.5*m*x**2*W(x)**2"
   ]
  },
  {
   "cell_type": "code",
   "execution_count": null,
   "metadata": {},
   "outputs": [],
   "source": [
    "def autoest(n,x,conj): # autoestados del oscilador armónico cuántico\n",
    "    pol_Herm = scipy.special.hermite(n)\n",
    "    xi = np.sqrt(m*w_0)*x\n",
    "    phi = (m*w_0/(np.pi))**(0.25)*(1/math.sqrt(2**n*np.math.factorial(n)))*pol_Herm(xi)*np.exp(-(xi**2)/2)\n",
    "    if conj == True:\n",
    "        return np.conj(phi)\n",
    "    return phi"
   ]
  },
  {
   "cell_type": "code",
   "execution_count": null,
   "metadata": {},
   "outputs": [],
   "source": [
    "x = np.linspace(-10,10,500) # Estas x tienen unidades de posición\n",
    "Unm = np.zeros([N,N],dtype=complex)\n",
    "U_x = np.zeros(np.size(x),dtype=complex)\n",
    "\n",
    "for i in tqdm(range(N)):\n",
    "    for j in range(N):\n",
    "        Unm[i][j] = scipy.integrate.simpson(autoest(j,x,False)*autoest(i,x,True)*U(x),x)\n",
    "        U_x = U_x + autoest(j,x,False)*autoest(i,x,True)*Unm[i][j]\n",
    "\n",
    "U_q = Qobj(Unm)"
   ]
  },
  {
   "cell_type": "code",
   "execution_count": null,
   "metadata": {},
   "outputs": [],
   "source": [
    "plt.plot(x,U_x,label='Truncated series expansion')\n",
    "plt.plot(x,U(x),label='Original')\n",
    "plt.xlim([-10,10])\n",
    "plt.ylim([0,np.max(U_x)])\n",
    "plt.title('Potential of the quantum system')\n",
    "plt.xlabel('x')\n",
    "plt.ylabel('U')\n",
    "plt.legend()\n",
    "plt.show()"
   ]
  },
  {
   "attachments": {},
   "cell_type": "markdown",
   "metadata": {},
   "source": [
    "Simulación de la dinámica cuántica"
   ]
  },
  {
   "cell_type": "code",
   "execution_count": null,
   "metadata": {},
   "outputs": [],
   "source": [
    "dt = 0.1 # Paso de tiempo\n",
    "tf = 50 # Tiempo de medida (se asume que t0 = 0)\n",
    "tvec = np.linspace(0,tf,int(tf/dt)+1) # Vector de instantes de tiempo"
   ]
  },
  {
   "cell_type": "code",
   "execution_count": null,
   "metadata": {},
   "outputs": [],
   "source": [
    "def check_state(psi):\n",
    "    check = np.sum(np.diagonal(ket2dm(psi).full())[-5:])\n",
    "\n",
    "    if check >= 1e-2:\n",
    "        return sys.exit(\"Warning: add more phonons\")"
   ]
  },
  {
   "cell_type": "code",
   "execution_count": null,
   "metadata": {},
   "outputs": [],
   "source": [
    "# Estado inicial:\n",
    "psi0 = coherent(N,1*math.sqrt(0.5))\n",
    "\n",
    "x_0 = expect(position(N),psi0)/math.sqrt(w_0*m) \n",
    "p_0 = expect(momentum(N),psi0)*math.sqrt(w_0*m)\n",
    "\n",
    "# Estado para comparar:\n",
    "# psi02 = coherent(N,math.sqrt(0.6))"
   ]
  },
  {
   "cell_type": "code",
   "execution_count": null,
   "metadata": {},
   "outputs": [],
   "source": [
    "H = w_0*momentum(N)**2/2+U_q\n",
    "options = Options(store_states=True,nsteps=5000)\n",
    "result = mesolve(H, psi0, tvec, [], [position(N)/math.sqrt(w_0*m),momentum(N)*math.sqrt(w_0*m),position(N)**2/(w_0*m),momentum(N)**2*(w_0*m)],options=options)\n",
    "# result2 = mesolve(H, psi02, tvec, [], [position(N)/math.sqrt(w_0*m),momentum(N)*math.sqrt(w_0*m),position(N)**2/(w_0*m),momentum(N)**2*(w_0*m)],options=options)"
   ]
  },
  {
   "attachments": {},
   "cell_type": "markdown",
   "metadata": {},
   "source": [
    "Overlap integrals"
   ]
  },
  {
   "cell_type": "code",
   "execution_count": null,
   "metadata": {},
   "outputs": [],
   "source": [
    "O = []\n",
    "O_t = []\n",
    "O2 = []\n",
    "\n",
    "for i in tqdm(range(np.size(tvec))): \n",
    "    psi = result.states[i]\n",
    "    check_state(psi)\n",
    "    x_exp = result.expect[0][i]\n",
    "    \n",
    "    psi_t = coherent(N,math.sqrt((m*w_0/2))*x_exp)\n",
    "    O.append(psi.overlap(psi0))\n",
    "    O_t.append(psi_t.overlap(psi))\n",
    "\n",
    "    # psi2 = result2.states[i]\n",
    "    # O2.append(psi2.overlap(psi02))"
   ]
  },
  {
   "cell_type": "code",
   "execution_count": null,
   "metadata": {},
   "outputs": [],
   "source": [
    "wig_xvec = np.linspace(-10,10,100)\n",
    "wig_pvec = np.linspace(-10,10,100)\n",
    "ej = wigner(psi, wig_xvec, wig_pvec)\n",
    "nrm = mpl.colors.Normalize(-ej.max(), ej.max())\n",
    "plt.contourf(wig_xvec, wig_pvec, ej, 100, cmap=cm.RdBu, norm =nrm)"
   ]
  },
  {
   "cell_type": "code",
   "execution_count": null,
   "metadata": {},
   "outputs": [],
   "source": [
    "ej2 = wigner(psi_t, wig_xvec, wig_pvec)\n",
    "nrm = mpl.colors.Normalize(-ej2.max(), ej2.max())\n",
    "plt.contourf(wig_xvec, wig_pvec, ej2, 100, cmap=cm.RdBu, norm = nrm)"
   ]
  },
  {
   "cell_type": "code",
   "execution_count": null,
   "metadata": {},
   "outputs": [],
   "source": [
    "plt.plot(tvec,np.abs(O))\n",
    "plt.xlim([0,tf])\n",
    "plt.ylim([0,1])\n",
    "plt.title('Overlap integral')\n",
    "plt.xlabel('t')\n",
    "plt.ylabel('<Ψ(t)|Ψ(0)>')\n",
    "plt.show()"
   ]
  },
  {
   "cell_type": "code",
   "execution_count": null,
   "metadata": {},
   "outputs": [],
   "source": [
    "plt.plot(tvec,np.abs(O_t))\n",
    "plt.xlim([0,tf])\n",
    "plt.ylim([0,1])\n",
    "plt.title('Does the state remain coherent as it evolves?')\n",
    "plt.xlabel('t')\n",
    "plt.ylabel('Coherence', style = 'italic')\n",
    "plt.show()"
   ]
  },
  {
   "cell_type": "code",
   "execution_count": null,
   "metadata": {},
   "outputs": [],
   "source": [
    "fou = scipy.fft.fft(np.abs(O))\n",
    "n = np.size(np.abs(O))\n",
    "freq = np.fft.fftfreq(n, 0.1)[:n//2]"
   ]
  },
  {
   "cell_type": "code",
   "execution_count": null,
   "metadata": {},
   "outputs": [],
   "source": [
    "plt.plot(freq,(2/n)*np.abs(fou[:n//2]), label = 'Overlap integral')\n",
    "plt.xlim([np.min(freq),np.max(freq)])\n",
    "plt.ylim([0,max((2/n)*fou)])\n",
    "plt.title('Frequency spectrum')\n",
    "plt.xlabel('freq')\n",
    "plt.ylabel('Magnitude')\n",
    "plt.legend()\n",
    "plt.show()"
   ]
  },
  {
   "cell_type": "code",
   "execution_count": null,
   "metadata": {},
   "outputs": [],
   "source": [
    "desv_x = np.sqrt(result.expect[2]-result.expect[0]*result.expect[0])\n",
    "desv_p = np.sqrt(result.expect[3]-result.expect[1]*result.expect[1])"
   ]
  },
  {
   "cell_type": "code",
   "execution_count": null,
   "metadata": {},
   "outputs": [],
   "source": [
    "plt.plot(desv_x, label = 'Δx')\n",
    "plt.plot(desv_p, label = 'Δp')\n",
    "plt.plot(desv_x*desv_p, label = 'Δx·Δp')\n",
    "plt.ylim([0,np.max(desv_p)+0.5])\n",
    "plt.xlim([0,tf])\n",
    "plt.title('Time-evolution of the standard deviation')\n",
    "plt.xlabel('t')\n",
    "plt.ylabel('Standard deviation')\n",
    "plt.legend()\n",
    "plt.show()"
   ]
  },
  {
   "attachments": {},
   "cell_type": "markdown",
   "metadata": {},
   "source": [
    "Comparación con caso clásico"
   ]
  },
  {
   "cell_type": "code",
   "execution_count": null,
   "metadata": {},
   "outputs": [],
   "source": [
    "def EDO(t,y,w):\n",
    "    x,v = y\n",
    "    return [v,-2*amort*v-W(x)**2*x+f_0*np.cos(w*t)]"
   ]
  },
  {
   "cell_type": "code",
   "execution_count": null,
   "metadata": {},
   "outputs": [],
   "source": [
    "pos = []\n",
    "vel = []\n",
    "w = [1] # frecuencia de la fuerza externa\n",
    "\n",
    "for i in tqdm(range(np.size(w))):\n",
    "    sol = scipy.integrate.solve_ivp(EDO, [0,tf], [x_0,p_0], method = 'DOP853',t_eval = tvec,args = [w[i]])\n",
    "    xc,vc = sol.y\n",
    "    pos.append(xc)\n",
    "    vel.append(vc)"
   ]
  },
  {
   "cell_type": "code",
   "execution_count": null,
   "metadata": {},
   "outputs": [],
   "source": [
    "plt.plot(pos[0],vel[0],label='Classical phase space')\n",
    "plt.plot(result.expect[0],result.expect[1],label='Quantum expected values')\n",
    "plt.xlim([np.min(pos[0]),np.max(result.expect[0])])\n",
    "plt.ylim([np.min(vel[0]),np.max(vel[0])])\n",
    "plt.title('Quantum vs. classical phase space')\n",
    "plt.xlabel('x')\n",
    "plt.ylabel('p')\n",
    "plt.legend()\n",
    "plt.show()"
   ]
  },
  {
   "cell_type": "code",
   "execution_count": null,
   "metadata": {},
   "outputs": [],
   "source": [
    "plt.plot(tvec,pos[0],label='Classical positions')\n",
    "plt.plot(tvec,result.expect[0],label='Quantum expected values', color = 'red')\n",
    "plt.fill_between(tvec,result.expect[0]-desv_x,result.expect[0]+desv_x,alpha = 0.4, color = 'red', label = 'Standard deviation')\n",
    "plt.xlim([0,tf])\n",
    "plt.title('Quantum vs. classical position')\n",
    "plt.xlabel('t')\n",
    "plt.ylabel('x')\n",
    "plt.legend()\n",
    "plt.show()"
   ]
  },
  {
   "cell_type": "code",
   "execution_count": null,
   "metadata": {},
   "outputs": [],
   "source": [
    "plt.plot(tvec,vel[0],label='Classical positions')\n",
    "plt.plot(tvec,result.expect[1],label='Quantum expected values', color = 'red')\n",
    "plt.fill_between(tvec,result.expect[1]-desv_p,result.expect[1]+desv_p,alpha = 0.4, color = 'red', label = 'Standard deviation')\n",
    "plt.xlim([0,tf])\n",
    "plt.title('Quantum vs. classical momentum')\n",
    "plt.xlabel('t')\n",
    "plt.ylabel('p')\n",
    "plt.legend()\n",
    "plt.show()"
   ]
  },
  {
   "attachments": {},
   "cell_type": "markdown",
   "metadata": {},
   "source": [
    "Wigner function evolution"
   ]
  },
  {
   "cell_type": "code",
   "execution_count": null,
   "metadata": {},
   "outputs": [],
   "source": [
    "Wigner = []\n",
    "wig_xvec = np.linspace(-6,6,100)\n",
    "wig_pvec = np.linspace(-6,6,100)\n",
    "for i in tqdm(range(np.size(tvec))):   \n",
    "    Wigner.append(wigner(result.states[i], wig_xvec, wig_pvec))"
   ]
  },
  {
   "cell_type": "code",
   "execution_count": null,
   "metadata": {},
   "outputs": [],
   "source": [
    "def update_Wigner(num,Wigner):\n",
    "    plt.cla()\n",
    "    wmap = wigner_cmap(Wigner[num])\n",
    "    nrm = mpl.colors.Normalize(-Wigner[num].max(), Wigner[num].max())\n",
    "    plt.contourf(wig_xvec, wig_pvec, Wigner[num], 100, cmap=cm.RdBu, norm=nrm)\n",
    "    plt.xlim([np.min(wig_xvec),np.max(wig_xvec)])\n",
    "    plt.ylim([np.min(wig_pvec),np.max(wig_pvec)])\n",
    "    plt.title('Evolution of the Wigner function (t = '+str(format(tvec[num],'.3f'))+' s)')\n",
    "    plt.axis('equal')\n",
    "    plt.xlabel('x')\n",
    "    plt.ylabel('p')"
   ]
  },
  {
   "cell_type": "code",
   "execution_count": null,
   "metadata": {},
   "outputs": [],
   "source": [
    "imW = plt.figure()\n",
    "wmap = wigner_cmap(Wigner[0])\n",
    "nrm = mpl.colors.Normalize(-Wigner[0].max(), Wigner[0].max())\n",
    "figW = plt.contourf(wig_xvec, wig_pvec, Wigner[0], 100, cmap=cm.RdBu, norm=nrm)\n",
    "plt.colorbar(cm.ScalarMappable(norm=nrm, cmap=cm.RdBu))\n",
    "animP = animation.FuncAnimation(imW, update_Wigner, range(np.size(tvec)), fargs = (Wigner, ), interval = 10)\n",
    "animP.save('Wforz.gif')"
   ]
  },
  {
   "attachments": {},
   "cell_type": "markdown",
   "metadata": {},
   "source": [
    "Amount of negativity"
   ]
  },
  {
   "cell_type": "code",
   "execution_count": null,
   "metadata": {},
   "outputs": [],
   "source": [
    "neg = []\n",
    "#pos = []\n",
    "\n",
    "for i in range(np.shape(Wigner)[0]):\n",
    "    neg.append(100*np.sum(((Wigner[i]<0)*1)*np.abs(Wigner[i]))/np.sum(np.abs(Wigner[i])))\n",
    "    #pos.append(100*np.sum(((Wigner[i]>=0)*1)*np.abs(Wigner[i]))/np.sum(np.abs(Wigner[i])))"
   ]
  },
  {
   "cell_type": "code",
   "execution_count": null,
   "metadata": {},
   "outputs": [],
   "source": [
    "plt.plot(tvec,neg)\n",
    "plt.xlim([0,tf])\n",
    "plt.ylim([0,np.max(neg)])\n",
    "plt.title('Percentage of negativity of the Wigner Function')\n",
    "plt.xlabel('t')\n",
    "plt.ylabel('Amount of negativity (%)')\n",
    "plt.show()"
   ]
  },
  {
   "attachments": {},
   "cell_type": "markdown",
   "metadata": {},
   "source": [
    "Probability density"
   ]
  },
  {
   "cell_type": "code",
   "execution_count": null,
   "metadata": {},
   "outputs": [],
   "source": [
    "prob = []\n",
    "\n",
    "for i in tqdm(range(np.size(tvec))):\n",
    "    psi_x = 0\n",
    "    for j in range(N):\n",
    "        psi_x = psi_x + autoest(j,x,False)*result.states[i][j]\n",
    "    prob.append(np.abs(psi_x)**2)"
   ]
  },
  {
   "cell_type": "code",
   "execution_count": null,
   "metadata": {},
   "outputs": [],
   "source": [
    "def update_prob(num,prob):\n",
    "    ax1.cla()\n",
    "    ax2.cla()\n",
    "    ax1.plot(x, prob[num][0], label = r'$|Ψ(x)|^2$', color = 'purple')\n",
    "    ax2.plot(x,U(x), alpha = 0.5, label = 'U(x)')\n",
    "    ax1.set_xlim([np.min(x),np.max(x)])\n",
    "    ax1.set_ylim([0,1.5])\n",
    "    ax2.set_ylim([0,100])\n",
    "    plt.title('Evolution of probability density (t = '+str(format(tvec[num],'.3f'))+' s)')\n",
    "    ax1.set_xlabel('x')\n",
    "    ax1.set_ylabel('$|Ψ(x)|^2$')\n",
    "    ax2.set_ylabel('U(x)')\n",
    "    plt.legend()"
   ]
  },
  {
   "cell_type": "code",
   "execution_count": null,
   "metadata": {},
   "outputs": [],
   "source": [
    "imP = plt.figure()\n",
    "ax1 = plt.subplot()\n",
    "ax2 = ax1.twinx()\n",
    "ax1.plot(x, prob[0][0], label = r'$|Ψ(x)|^2$', color = 'purple')\n",
    "ax2.plot(x,U(x), alpha = 0.5, label = 'U(x)')\n",
    "animP = animation.FuncAnimation(imP, update_prob, range(np.size(tvec)), fargs = (prob, ), interval = 10)\n",
    "animP.save('probforz.gif')"
   ]
  },
  {
   "attachments": {},
   "cell_type": "markdown",
   "metadata": {},
   "source": [
    "0-1 Test"
   ]
  },
  {
   "attachments": {},
   "cell_type": "markdown",
   "metadata": {},
   "source": [
    "Consejo: para que sea más fiable usar pasos de tiempo relativamente grandes y priorizar simulaciones a tiempos largos (> 2500 s con dt = 0.5) con varios valores de c"
   ]
  },
  {
   "cell_type": "code",
   "execution_count": null,
   "metadata": {},
   "outputs": [],
   "source": [
    "def cov(x,y):\n",
    "    q = np.size(x)\n",
    "    return (1/q)*np.sum((x-np.mean(x))*(y-np.mean(y)))"
   ]
  },
  {
   "cell_type": "code",
   "execution_count": null,
   "metadata": {},
   "outputs": [],
   "source": [
    "def chaos_test(O):\n",
    "    \n",
    "    N = np.size(O)\n",
    "    N_0 = int(N/10)\n",
    "    x = np.linspace(1,N,N)\n",
    "    t = np.linspace(1,N_0,N_0)\n",
    "    c = np.linspace(0.1,np.pi/2-0.1,50)\n",
    "    K = np.zeros(np.size(c))\n",
    "    E = np.mean(O)\n",
    "    sigma = 0\n",
    "    noise = np.random.choice(np.linspace(-0.5,0.5,N), size = N_0)\n",
    "    \n",
    "    for i in tqdm(range(np.size(c))):\n",
    "    \n",
    "        p = np.zeros(2*N)\n",
    "        q = np.zeros(2*N)\n",
    "        M = np.zeros(N_0)\n",
    "        V = np.zeros(N_0)\n",
    "        \n",
    "        for n in range(1,N):\n",
    "            p[n] = p[n-1] + O[n]*np.cos(c[i]*n)\n",
    "            q[n] = q[n-1] + O[n]*np.sin(c[i]*n)\n",
    "       \n",
    "        for n in range(1,N_0):\n",
    "            V[n] = E**2*((1-np.cos(n*c[i]))/(1-np.cos(c[i])))\n",
    "            aux = np.zeros(N-N_0)\n",
    "            for j in range(1,N-N_0):\n",
    "                aux[j] = (p[n+j]-p[j])**2+(q[n+j]-q[j])**2\n",
    "            M[n] = np.mean(aux)+sigma*noise[n]\n",
    "        \n",
    "        D = M-V\n",
    "        K[i] = cov(t,D)/np.sqrt(cov(t,t)*cov(D,D))\n",
    "    #plt.plot(c,K,'.')\n",
    "    \n",
    "    return np.median(K)"
   ]
  },
  {
   "cell_type": "code",
   "execution_count": null,
   "metadata": {},
   "outputs": [],
   "source": [
    "r = np.zeros(np.size(w))\n",
    "for i in range(np.size(w)):\n",
    "    r[i] = chaos_test(pos[i])\n",
    "    print(r[i])"
   ]
  },
  {
   "cell_type": "code",
   "execution_count": null,
   "metadata": {},
   "outputs": [],
   "source": [
    "chaos_test(np.abs(O))"
   ]
  },
  {
   "cell_type": "code",
   "execution_count": null,
   "metadata": {},
   "outputs": [],
   "source": [
    "chaos_test(np.abs(O_t))"
   ]
  },
  {
   "cell_type": "code",
   "execution_count": null,
   "metadata": {},
   "outputs": [],
   "source": [
    "plt.plot(w,r,'.')\n",
    "plt.ylim([0,1])\n",
    "plt.xlim([np.min(w),np.max(w)])\n",
    "plt.title('0-1 TEST')\n",
    "plt.xlabel('w')\n",
    "plt.show()"
   ]
  },
  {
   "cell_type": "code",
   "execution_count": null,
   "metadata": {},
   "outputs": [],
   "source": [
    "'''\n",
    "# EXAMEN PARA COMPROBAR QUE EL TEST 0-1 FUNCIONA #\n",
    "\n",
    "cha = np.zeros([1000,25])\n",
    "cha[0] = 0.5\n",
    "coef = np.linspace(3.5,3.7,25)\n",
    "for m in range(25):\n",
    "    for n in range(1,1000):\n",
    "        cha[n,m] = coef[m]*cha[n-1,m]*(1-cha[n-1,m])\n",
    "\n",
    "r = np.zeros(25)\n",
    "for i in tqdm(range(25)):\n",
    "    r[i] = chaos_test(cha[:,i])\n",
    "\n",
    "plt.plot(coef,r,'.')\n",
    "plt.ylim([0,1])\n",
    "'''"
   ]
  }
 ],
 "metadata": {
  "kernelspec": {
   "display_name": "QuantumChaos",
   "language": "python",
   "name": "python3"
  },
  "language_info": {
   "codemirror_mode": {
    "name": "ipython",
    "version": 3
   },
   "file_extension": ".py",
   "mimetype": "text/x-python",
   "name": "python",
   "nbconvert_exporter": "python",
   "pygments_lexer": "ipython3",
   "version": "3.9.13"
  },
  "orig_nbformat": 4,
  "vscode": {
   "interpreter": {
    "hash": "acfa70e34cb505bf3cae21ce846abafa5cd88f3188ee1ac752eec43f6bdb7512"
   }
  }
 },
 "nbformat": 4,
 "nbformat_minor": 2
}
