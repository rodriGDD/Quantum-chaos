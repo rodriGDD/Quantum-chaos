{
 "cells": [
  {
   "attachments": {},
   "cell_type": "markdown",
   "metadata": {},
   "source": [
    "OSCILADOR ARMÓNICO AMORTIGUADO FORZADO: ¿Cuándo aparece el caos?"
   ]
  },
  {
   "cell_type": "code",
   "execution_count": 8,
   "metadata": {},
   "outputs": [
    {
     "name": "stdout",
     "output_type": "stream",
     "text": [
      "The autoreload extension is already loaded. To reload it, use:\n",
      "  %reload_ext autoreload\n"
     ]
    }
   ],
   "source": [
    "%load_ext autoreload\n",
    "%autoreload 2\n",
    "\n",
    "import numpy as np\n",
    "import matplotlib.pyplot as plt\n",
    "import matplotlib.animation as animation\n",
    "import scipy as scipy\n",
    "from math import *\n",
    "from tqdm import tqdm"
   ]
  },
  {
   "attachments": {},
   "cell_type": "markdown",
   "metadata": {},
   "source": [
    "VALORES NUMÉRICOS DEL PROBLEMA"
   ]
  },
  {
   "attachments": {},
   "cell_type": "markdown",
   "metadata": {},
   "source": [
    "Condiciones iniciales"
   ]
  },
  {
   "cell_type": "code",
   "execution_count": 2,
   "metadata": {},
   "outputs": [],
   "source": [
    "x_0 = 10 # Posición inicial (arb)\n",
    "v_0 = 0 # Velocidad inicial (arb)"
   ]
  },
  {
   "attachments": {},
   "cell_type": "markdown",
   "metadata": {},
   "source": [
    "Parámetros del sistema"
   ]
  },
  {
   "cell_type": "code",
   "execution_count": 19,
   "metadata": {},
   "outputs": [],
   "source": [
    "w_0 = 0.5 # Frecuencia natural x>0\n",
    "w = 1.5 # constante de amortiguamiento\n",
    "f_0 = 0.25 # Amplitud de la fuerza por unidad de masa\n",
    "T = 2*np.pi/w # Periodo fuerza externa"
   ]
  },
  {
   "attachments": {},
   "cell_type": "markdown",
   "metadata": {},
   "source": [
    "Damping coefficient"
   ]
  },
  {
   "cell_type": "code",
   "execution_count": 4,
   "metadata": {},
   "outputs": [
    {
     "name": "stderr",
     "output_type": "stream",
     "text": [
      "C:\\Users\\rodri\\AppData\\Local\\Temp\\ipykernel_44028\\3510089376.py:3: RuntimeWarning: divide by zero encountered in divide\n",
      "  tcarac = 1/amort\n"
     ]
    }
   ],
   "source": [
    "damort = 0.005 # paso en el amortiguamiento\n",
    "amort =  np.array([i*damort for i in range(int(0/damort),int(0.125/damort)+1)]) # Constante de amortiguamiento\n",
    "tcarac = 1/amort\n",
    "#print(tcarac)"
   ]
  },
  {
   "attachments": {},
   "cell_type": "markdown",
   "metadata": {},
   "source": [
    "Medida del tiempo"
   ]
  },
  {
   "cell_type": "code",
   "execution_count": 5,
   "metadata": {},
   "outputs": [
    {
     "name": "stderr",
     "output_type": "stream",
     "text": [
      "C:\\Users\\rodri\\AppData\\Local\\Temp\\ipykernel_44028\\467882513.py:6: RuntimeWarning: divide by zero encountered in double_scalars\n",
      "  tf.append(5/amort[i]+1000)  # Tiempo de medida (se asume que t0 = 0)\n"
     ]
    }
   ],
   "source": [
    "dt = 0.01 # Paso de tiempo\n",
    "tf = []\n",
    "t = []\n",
    "t0 = 0\n",
    "for i in range(np.size(amort)):\n",
    "    tf.append(5/amort[i]+1000)  # Tiempo de medida (se asume que t0 = 0)\n",
    "    if tf[i] == inf:\n",
    "        tf[i] = 1000\n",
    "    t.append(np.linspace(t0,tf[i],int(tf[i]/dt)+1)) # Vector de instantes de tiempo"
   ]
  },
  {
   "attachments": {},
   "cell_type": "markdown",
   "metadata": {},
   "source": [
    "Frencuencia angular natural para x<0"
   ]
  },
  {
   "cell_type": "code",
   "execution_count": 6,
   "metadata": {},
   "outputs": [
    {
     "name": "stdout",
     "output_type": "stream",
     "text": [
      "[0.5 0.6 0.7 0.8 0.9 1.  1.1 1.2 1.3 1.4 1.5 1.6 1.7 1.8 1.9 2.  2.1 2.2\n",
      " 2.3 2.4 2.5 2.6 2.7 2.8 2.9 3.  3.1 3.2 3.3 3.4 3.5 3.6 3.7 3.8 3.9 4.\n",
      " 4.1 4.2 4.3 4.4 4.5 4.6 4.7 4.8 4.9 5.  5.1 5.2 5.3 5.4 5.5 5.6 5.7 5.8\n",
      " 5.9 6.  6.1 6.2 6.3 6.4 6.5 6.6 6.7 6.8 6.9 7.  7.1 7.2 7.3 7.4 7.5 7.6\n",
      " 7.7 7.8 7.9 8. ]\n"
     ]
    }
   ],
   "source": [
    "dW_0 = 0.1 # paso en la frecuencia natural para x<0\n",
    "W_0 =  np.array([w_0+i*dW_0 for i in range(int((15*w_0)/dW_0)+1)]) # Frecuencia natural para x<0\n",
    "print(W_0)\n",
    "#W_0 = np.array([2.5])"
   ]
  },
  {
   "attachments": {},
   "cell_type": "markdown",
   "metadata": {},
   "source": [
    "DEFINIMOS UNA FRECUENCIA NATURAL DEL OSCILADOR QUE DEPENDE DE LA POSICIÓN"
   ]
  },
  {
   "cell_type": "code",
   "execution_count": 7,
   "metadata": {},
   "outputs": [],
   "source": [
    "def W(x,W_0): # frecuecia angular\n",
    "    return W_0 - (W_0-w_0)*np.heaviside(x,w_0)"
   ]
  },
  {
   "attachments": {},
   "cell_type": "markdown",
   "metadata": {},
   "source": [
    "ECUACIÓN DIFERENCIAL"
   ]
  },
  {
   "cell_type": "code",
   "execution_count": 14,
   "metadata": {},
   "outputs": [],
   "source": [
    "def EDO(t,y,amort,W_0): \n",
    "    x,v = y\n",
    "    # return [v,-2*amort*v-W(x,W_0)**2*x+f_0*np.cos(w*t)] # Classical eqs.\n",
    "    return [v-amort*x,-W(x,W_0)**2*x-amort*v+f_0*np.cos(w*t)] # Modified eqs."
   ]
  },
  {
   "attachments": {},
   "cell_type": "markdown",
   "metadata": {},
   "source": [
    "CÁLCULO DEL EXPONENTE DE LYAPUNOV"
   ]
  },
  {
   "attachments": {},
   "cell_type": "markdown",
   "metadata": {},
   "source": [
    "Función que calcula el exponente de Lyapunov para unos parámetros del sistema dados"
   ]
  },
  {
   "cell_type": "code",
   "execution_count": 15,
   "metadata": {},
   "outputs": [],
   "source": [
    "def Lyapunov_exponent(EDO,t,tf,amort,W_0,eps,x_0,v_0):\n",
    "\n",
    "    N = int((tf-t0)/dt)+1\n",
    "    \n",
    "    z = np.zeros([N,2])\n",
    "    zp = np.zeros([N,2])\n",
    "    d = np.zeros(N)\n",
    "    loglist = np.zeros(N)\n",
    "\n",
    "    z[0] = [x_0,v_0]\n",
    "    zp[0] = [x_0+eps/np.sqrt(2),v_0+eps/np.sqrt(2)]\n",
    "    d[0] = eps\n",
    "   \n",
    "    sol = scipy.integrate.solve_ivp(EDO, [0,tf], z[0], method = 'Radau',t_eval = t,args = [amort,W_0])\n",
    "    pos,vel = sol.y\n",
    "    solL = scipy.integrate.solve_ivp(EDO, [0,tf], zp[0], method = 'Radau',t_eval = t,args = [amort,W_0])\n",
    "    posL,velL = solL.y\n",
    "    \n",
    "    for i in range(1,N):\n",
    "        z[i] = [pos[i],vel[i]]\n",
    "        zp[i] = [posL[i],velL[i]]\n",
    "        d[i] = np.linalg.norm((z[i]-zp[i]))\n",
    "        loglist[i] = np.log(d[i]/eps)\n",
    "    \n",
    "    lyap = np.mean((loglist/t)[-int(N/5):])\n",
    "    com = scipy.signal.find_peaks(pos)[0][-100:]-scipy.signal.find_peaks(posL)[0][-100:]\n",
    "    \n",
    "    if amort != 0:\n",
    "        if lyap > 0:\n",
    "            '''\n",
    "            if abs(np.mean(com)) < 0.1:\n",
    "                lyap = -lyap\n",
    "            else:\n",
    "            '''\n",
    "            for i in range(1,N):\n",
    "                d[i] = np.linalg.norm((z[i]-zp[i-round(T/dt)]))\n",
    "                loglist[i] = np.log(d[i]/eps)\n",
    "            lyap = np.mean((loglist/t)[-int(N/5):])\n",
    "            \n",
    "        if lyap > 0:\n",
    "            for i in range(1,N):\n",
    "                d[i] = np.linalg.norm((z[i]-zp[i-2*round(T/dt)]))\n",
    "                loglist[i] = np.log(d[i]/eps)\n",
    "            lyap = np.mean((loglist/t)[-int(N/5):])\n",
    "\n",
    "        if lyap > 0:\n",
    "            for i in range(1,N):\n",
    "                d[i] = np.linalg.norm((z[i]-zp[i-3*round(T/dt)]))\n",
    "                loglist[i] = np.log(d[i]/eps)\n",
    "            lyap = np.mean((loglist/t)[-int(N/5):])\n",
    "\n",
    "        if lyap > 0:\n",
    "            for i in range(1,N):\n",
    "                d[i] = np.linalg.norm((z[i]-zp[i-4*round(T/dt)]))\n",
    "                loglist[i] = np.log(d[i]/eps)\n",
    "            lyap = np.mean((loglist/t)[-int(N/5):])\n",
    "\n",
    "        if lyap > 0:\n",
    "            for i in range(1,N):\n",
    "                d[i] = np.linalg.norm((z[i]-zp[i-5*round(T/dt)]))\n",
    "                loglist[i] = np.log(d[i]/eps)\n",
    "            lyap = np.mean((loglist/t)[-int(N/5):])\n",
    "\n",
    "        if lyap > 0:\n",
    "            for i in range(1,N):\n",
    "                d[i] = np.linalg.norm((z[i]-zp[i-6*round(T/dt)]))\n",
    "                loglist[i] = np.log(d[i]/eps)\n",
    "            lyap = np.mean((loglist/t)[-int(N/5):])\n",
    "    \n",
    "    return [lyap,np.std((loglist/t)[-int(N/5):])]"
   ]
  },
  {
   "attachments": {},
   "cell_type": "markdown",
   "metadata": {},
   "source": [
    "Cálculo de resultados"
   ]
  },
  {
   "cell_type": "code",
   "execution_count": 20,
   "metadata": {},
   "outputs": [
    {
     "name": "stderr",
     "output_type": "stream",
     "text": [
      "  0%|          | 0/76 [00:00<?, ?it/s]C:\\Users\\rodri\\AppData\\Local\\Temp\\ipykernel_44028\\1800184984.py:25: RuntimeWarning: invalid value encountered in divide\n",
      "  lyap = np.mean((loglist/t)[-int(N/5):])\n",
      "C:\\Users\\rodri\\AppData\\Local\\Temp\\ipykernel_44028\\1800184984.py:70: RuntimeWarning: invalid value encountered in divide\n",
      "  return [lyap,np.std((loglist/t)[-int(N/5):])]\n",
      "  5%|▌         | 4/76 [06:20<1:50:54, 92.42s/it] C:\\Users\\rodri\\AppData\\Local\\Temp\\ipykernel_44028\\1800184984.py:38: RuntimeWarning: invalid value encountered in divide\n",
      "  lyap = np.mean((loglist/t)[-int(N/5):])\n",
      "C:\\Users\\rodri\\AppData\\Local\\Temp\\ipykernel_44028\\1800184984.py:44: RuntimeWarning: invalid value encountered in divide\n",
      "  lyap = np.mean((loglist/t)[-int(N/5):])\n",
      "C:\\Users\\rodri\\AppData\\Local\\Temp\\ipykernel_44028\\1800184984.py:50: RuntimeWarning: invalid value encountered in divide\n",
      "  lyap = np.mean((loglist/t)[-int(N/5):])\n",
      "C:\\Users\\rodri\\AppData\\Local\\Temp\\ipykernel_44028\\1800184984.py:56: RuntimeWarning: invalid value encountered in divide\n",
      "  lyap = np.mean((loglist/t)[-int(N/5):])\n",
      "C:\\Users\\rodri\\AppData\\Local\\Temp\\ipykernel_44028\\1800184984.py:62: RuntimeWarning: invalid value encountered in divide\n",
      "  lyap = np.mean((loglist/t)[-int(N/5):])\n",
      "C:\\Users\\rodri\\AppData\\Local\\Temp\\ipykernel_44028\\1800184984.py:68: RuntimeWarning: invalid value encountered in divide\n",
      "  lyap = np.mean((loglist/t)[-int(N/5):])\n",
      "100%|██████████| 76/76 [5:42:19<00:00, 270.26s/it]  \n"
     ]
    }
   ],
   "source": [
    "lyap = np.zeros([np.size(W_0),np.size(amort)])\n",
    "disp = np.zeros([np.size(W_0),np.size(amort)])\n",
    "\n",
    "eps = 1e-2\n",
    "\n",
    "for i in tqdm(range(np.size(W_0))):\n",
    "    for j in range(np.size(amort)):\n",
    "        lyap[i,j],disp[i,j] = Lyapunov_exponent(EDO,t[j],tf[j],amort[j],W_0[i],eps,x_0,v_0)"
   ]
  },
  {
   "attachments": {},
   "cell_type": "markdown",
   "metadata": {},
   "source": [
    "Almacenamiento de datos"
   ]
  },
  {
   "cell_type": "code",
   "execution_count": 23,
   "metadata": {},
   "outputs": [],
   "source": [
    "import os\n",
    "newpath = r'.\\explyap' \n",
    "if not os.path.exists(newpath):\n",
    "    os.makedirs(newpath)\n",
    "\n",
    "for i in range(W_0.size):\n",
    "    np.savetxt('.\\explyap/explyap Ω₀ω₀ = '+str(format(W_0[i]/w_0,'.3f'))+'.txt',lyap[i])"
   ]
  },
  {
   "attachments": {},
   "cell_type": "markdown",
   "metadata": {},
   "source": [
    "Cargo datos almacenados"
   ]
  },
  {
   "cell_type": "code",
   "execution_count": 24,
   "metadata": {},
   "outputs": [],
   "source": [
    "lyap_rep = np.zeros([np.size(W_0),np.size(amort)])\n",
    "\n",
    "for i in range(W_0.size):\n",
    "    f = open('.\\explyap/explyap Ω₀ω₀ = '+str(format(W_0[i]/w_0,'.3f'))+'.txt','r')\n",
    "    lyap_rep[i:] = f.readlines()\n",
    "    f.close()"
   ]
  },
  {
   "attachments": {},
   "cell_type": "markdown",
   "metadata": {},
   "source": [
    "Representación gráfica de resultados"
   ]
  },
  {
   "cell_type": "code",
   "execution_count": 32,
   "metadata": {},
   "outputs": [
    {
     "data": {
      "image/png": "[encoded data removed]",
      "text/plain": [
       "<Figure size 640x480 with 2 Axes>"
      ]
     },
     "metadata": {},
     "output_type": "display_data"
    }
   ],
   "source": [
    "plt.imshow(lyap_rep,cmap = 'seismic',vmin = -0.01, vmax = 0.01, aspect = 'auto', extent = [min(amort),max(amort),max(W_0)/w_0,1])\n",
    "cbar = plt.colorbar().set_label(label='Maximal Lyapunov exponent',size=14)\n",
    "plt.title('Emergence of chaotic regimes ($\\omega$ = '+str(format(w,'.1f'))+' s⁻¹)',fontsize = 14)\n",
    "#plt.ylabel('Ω₀(x<0)/Ω₀(x>0)',fontsize = 16)\n",
    "plt.ylabel('Size of Ω₀ discontinuity',fontsize = 14)\n",
    "plt.xlabel('Damping coefficient $\\gamma$ (s⁻¹)',fontsize = 14)\n",
    "plt.savefig('fig_reg.png')\n",
    "plt.rc('xtick', labelsize=14) \n",
    "plt.rc('ytick', labelsize=14)\n",
    "plt.show()"
   ]
  }
 ],
 "metadata": {
  "kernelspec": {
   "display_name": "Python 3.9.13 ('QuantumChaos')",
   "language": "python",
   "name": "python3"
  },
  "language_info": {
   "codemirror_mode": {
    "name": "ipython",
    "version": 3
   },
   "file_extension": ".py",
   "mimetype": "text/x-python",
   "name": "python",
   "nbconvert_exporter": "python",
   "pygments_lexer": "ipython3",
   "version": "3.9.13"
  },
  "orig_nbformat": 4,
  "vscode": {
   "interpreter": {
    "hash": "acfa70e34cb505bf3cae21ce846abafa5cd88f3188ee1ac752eec43f6bdb7512"
   }
  }
 },
 "nbformat": 4,
 "nbformat_minor": 2
}
