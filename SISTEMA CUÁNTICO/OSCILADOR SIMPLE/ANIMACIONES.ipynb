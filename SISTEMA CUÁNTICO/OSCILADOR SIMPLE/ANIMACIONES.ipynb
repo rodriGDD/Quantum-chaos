{
 "cells": [
  {
   "cell_type": "code",
   "execution_count": 1,
   "metadata": {},
   "outputs": [
    {
     "ename": "ModuleNotFoundError",
     "evalue": "No module named 'qutip'",
     "output_type": "error",
     "traceback": [
      "\u001b[1;31m---------------------------------------------------------------------------\u001b[0m",
      "\u001b[1;31mModuleNotFoundError\u001b[0m                       Traceback (most recent call last)",
      "\u001b[1;32mUntitled-1.ipynb Celda 1\u001b[0m in \u001b[0;36m<module>\u001b[1;34m\u001b[0m\n\u001b[1;32m----> <a href='vscode-notebook-cell:Untitled-1.ipynb?jupyter-notebook#W0sdW50aXRsZWQ%3D?line=0'>1</a>\u001b[0m \u001b[39mfrom\u001b[39;00m \u001b[39mqutip\u001b[39;00m \u001b[39mimport\u001b[39;00m \u001b[39m*\u001b[39m\n\u001b[0;32m      <a href='vscode-notebook-cell:Untitled-1.ipynb?jupyter-notebook#W0sdW50aXRsZWQ%3D?line=1'>2</a>\u001b[0m \u001b[39mimport\u001b[39;00m \u001b[39mmath\u001b[39;00m \u001b[39mas\u001b[39;00m \u001b[39mmath\u001b[39;00m\n\u001b[0;32m      <a href='vscode-notebook-cell:Untitled-1.ipynb?jupyter-notebook#W0sdW50aXRsZWQ%3D?line=2'>3</a>\u001b[0m \u001b[39mimport\u001b[39;00m \u001b[39mnumpy\u001b[39;00m \u001b[39mas\u001b[39;00m \u001b[39mnp\u001b[39;00m\n",
      "\u001b[1;31mModuleNotFoundError\u001b[0m: No module named 'qutip'"
     ]
    }
   ],
   "source": [
    "from qutip import *\n",
    "import math as math\n",
    "import numpy as np\n",
    "import matplotlib.pyplot as plt\n",
    "import matplotlib as mpl\n",
    "from matplotlib import cm\n",
    "import scipy as scipy\n",
    "import matplotlib.animation as animation\n",
    "from tqdm import tqdm\n",
    "import sys"
   ]
  },
  {
   "attachments": {},
   "cell_type": "markdown",
   "metadata": {},
   "source": [
    "Parámetros del sistema"
   ]
  },
  {
   "cell_type": "code",
   "execution_count": null,
   "metadata": {},
   "outputs": [],
   "source": [
    "w_0 = 1 # Frecuencia natural x>0\n",
    "W_0 = 5 # Frecuencia natural x<0\n",
    "m = 1 # masa del oscilador\n",
    "N = 150 # Numero de fonones"
   ]
  },
  {
   "attachments": {},
   "cell_type": "markdown",
   "metadata": {},
   "source": [
    "Frecuencia natural del oscilador"
   ]
  },
  {
   "cell_type": "code",
   "execution_count": null,
   "metadata": {},
   "outputs": [],
   "source": [
    "def W(x): # frecuecia angular\n",
    "    return W_0 - (W_0-w_0)*np.heaviside(x,w_0)"
   ]
  },
  {
   "attachments": {},
   "cell_type": "markdown",
   "metadata": {},
   "source": [
    "Desarrollo del potencial en la base de autoestados del oscilador armónico cuántico"
   ]
  },
  {
   "cell_type": "code",
   "execution_count": null,
   "metadata": {},
   "outputs": [],
   "source": [
    "def U(x):\n",
    "    return 0.5*m*x**2*W(x)**2"
   ]
  },
  {
   "cell_type": "code",
   "execution_count": null,
   "metadata": {},
   "outputs": [],
   "source": [
    "def autoest(n,x,conj): # autoestados del oscilador armónico cuántico\n",
    "    pol_Herm = scipy.special.hermite(n)\n",
    "    xi = np.sqrt(m*w_0)*x\n",
    "    phi = (m*w_0/(np.pi))**(0.25)*(1/math.sqrt(2**n*np.math.factorial(n)))*pol_Herm(xi)*np.exp(-(xi**2)/2)\n",
    "    if conj == True:\n",
    "        return np.conj(phi)\n",
    "    return phi"
   ]
  },
  {
   "cell_type": "code",
   "execution_count": null,
   "metadata": {},
   "outputs": [],
   "source": [
    "x = np.linspace(-10,10,500) # Estas x tienen unidades de posición\n",
    "Unm = np.zeros([N,N],dtype=complex)\n",
    "U_x = np.zeros(np.size(x),dtype=complex)\n",
    "\n",
    "for i in tqdm(range(N)):\n",
    "    for j in range(N):\n",
    "        Unm[i][j] = scipy.integrate.simpson(autoest(j,x,False)*autoest(i,x,True)*U(x),x)\n",
    "        U_x = U_x + autoest(j,x,False)*autoest(i,x,True)*Unm[i][j]\n",
    "\n",
    "U_q = Qobj(Unm)"
   ]
  },
  {
   "cell_type": "code",
   "execution_count": null,
   "metadata": {},
   "outputs": [],
   "source": [
    "plt.plot(x,U_x,label='Truncated series expansion')\n",
    "plt.plot(x,U(x),label='Original')\n",
    "plt.xlim([np.min(x),np.max(x)])\n",
    "plt.ylim([0,np.max(U_x[(np.size(U_x)//2):])])\n",
    "plt.title('Potential of the quantum system')\n",
    "plt.xlabel('x')\n",
    "plt.ylabel('U')\n",
    "plt.legend()\n",
    "plt.show()"
   ]
  },
  {
   "attachments": {},
   "cell_type": "markdown",
   "metadata": {},
   "source": [
    "Simulación de la dinámica cuántica"
   ]
  },
  {
   "cell_type": "code",
   "execution_count": null,
   "metadata": {},
   "outputs": [],
   "source": [
    "dt = 0.05 # Paso de tiempo\n",
    "tf = 50 # Tiempo de medida (se asume que t0 = 0)\n",
    "tvec = np.linspace(0,tf,int(tf/dt)+1) # Vector de instantes de tiempo"
   ]
  },
  {
   "cell_type": "code",
   "execution_count": null,
   "metadata": {},
   "outputs": [],
   "source": [
    "def check_state(psi):\n",
    "    check = np.sum(np.diagonal(ket2dm(psi).full())[-5:])\n",
    "\n",
    "    if check >= 1e-2:\n",
    "        return sys.exit(\"Warning: add more phonons\")"
   ]
  },
  {
   "cell_type": "code",
   "execution_count": null,
   "metadata": {},
   "outputs": [],
   "source": [
    "# Estado inicial:\n",
    "psi0 = coherent(N,3*math.sqrt(0.5))\n",
    "\n",
    "x_0 = expect(position(N),psi0)/math.sqrt(w_0*m) \n",
    "p_0 = expect(momentum(N),psi0)*math.sqrt(w_0*m)\n",
    "\n",
    "# Estado para comparar:\n",
    "# psi02 = coherent(N,math.sqrt(0.6))"
   ]
  },
  {
   "cell_type": "code",
   "execution_count": null,
   "metadata": {},
   "outputs": [],
   "source": [
    "H = w_0*momentum(N)**2/2+U_q\n",
    "options = Options(store_states=True,nsteps=5000)\n",
    "result = mesolve(H, psi0, tvec, [], [position(N)/math.sqrt(w_0*m),momentum(N)*math.sqrt(w_0*m),position(N)**2/(w_0*m),momentum(N)**2*(w_0*m)],options=options)\n",
    "# result2 = mesolve(H, psi02, tvec, [], [position(N)/math.sqrt(w_0*m),momentum(N)*math.sqrt(w_0*m),position(N)**2/(w_0*m),momentum(N)**2*(w_0*m)],options=options)"
   ]
  },
  {
   "attachments": {},
   "cell_type": "markdown",
   "metadata": {},
   "source": [
    "Wigner function evolution"
   ]
  },
  {
   "cell_type": "code",
   "execution_count": null,
   "metadata": {},
   "outputs": [],
   "source": [
    "Wigner = []\n",
    "wig_xvec = np.linspace(-6,6,100)\n",
    "wig_pvec = np.linspace(-6,6,100)\n",
    "for i in tqdm(range(np.size(tvec))):   \n",
    "    Wigner.append(wigner(result.states[i], wig_xvec, wig_pvec))"
   ]
  },
  {
   "cell_type": "code",
   "execution_count": null,
   "metadata": {},
   "outputs": [],
   "source": [
    "def update_Wigner(num,Wigner):\n",
    "    plt.cla()\n",
    "    wmap = wigner_cmap(Wigner[num])\n",
    "    nrm = mpl.colors.Normalize(-Wigner[num].max(), Wigner[num].max())\n",
    "    plt.contourf(wig_xvec, wig_pvec, Wigner[num], 100, cmap=cm.RdBu, norm=nrm)\n",
    "    plt.xlim([np.min(wig_xvec),np.max(wig_xvec)])\n",
    "    plt.ylim([np.min(wig_pvec),np.max(wig_pvec)])\n",
    "    plt.title('Evolution of the Wigner function (t = '+str(format(tvec[num],'.3f'))+' s)')\n",
    "    plt.axis('equal')\n",
    "    plt.xlabel('x')\n",
    "    plt.ylabel('p')"
   ]
  },
  {
   "cell_type": "code",
   "execution_count": null,
   "metadata": {},
   "outputs": [],
   "source": [
    "imW = plt.figure()\n",
    "wmap = wigner_cmap(Wigner[0])\n",
    "nrm = mpl.colors.Normalize(-Wigner[0].max(), Wigner[0].max())\n",
    "figW = plt.contourf(wig_xvec, wig_pvec, Wigner[0], 100, cmap=cm.RdBu, norm=nrm)\n",
    "plt.colorbar(cm.ScalarMappable(norm=nrm, cmap=cm.RdBu))\n",
    "animP = animation.FuncAnimation(imW, update_Wigner, range(np.size(tvec)), fargs = (Wigner, ), interval = 250)\n",
    "animP.save('W3.gif')"
   ]
  },
  {
   "attachments": {},
   "cell_type": "markdown",
   "metadata": {},
   "source": [
    "Amount of negativity"
   ]
  },
  {
   "cell_type": "code",
   "execution_count": null,
   "metadata": {},
   "outputs": [],
   "source": [
    "neg = []\n",
    "#pos = []\n",
    "\n",
    "for i in range(np.shape(Wigner)[0]):\n",
    "    neg.append(100*np.sum(((Wigner[i]<0)*1)*np.abs(Wigner[i]))/np.sum(np.abs(Wigner[i])))\n",
    "    #pos.append(100*np.sum(((Wigner[i]>=0)*1)*np.abs(Wigner[i]))/np.sum(np.abs(Wigner[i])))"
   ]
  },
  {
   "cell_type": "code",
   "execution_count": null,
   "metadata": {},
   "outputs": [],
   "source": [
    "plt.plot(tvec,neg)\n",
    "plt.xlim([0,tf])\n",
    "plt.ylim([0,np.max(neg)])\n",
    "plt.title('Percentage of negativity of the Wigner Function')\n",
    "plt.xlabel('t')\n",
    "plt.ylabel('Amount of negativity (%)')\n",
    "plt.show()"
   ]
  },
  {
   "attachments": {},
   "cell_type": "markdown",
   "metadata": {},
   "source": [
    "Probability density"
   ]
  },
  {
   "cell_type": "code",
   "execution_count": null,
   "metadata": {},
   "outputs": [],
   "source": [
    "prob = []\n",
    "\n",
    "for i in tqdm(range(np.size(tvec))):\n",
    "    psi_x = 0\n",
    "    for j in range(N):\n",
    "        psi_x = psi_x + autoest(j,x,False)*result.states[i][j]\n",
    "    prob.append(np.abs(psi_x)**2)"
   ]
  },
  {
   "cell_type": "code",
   "execution_count": null,
   "metadata": {},
   "outputs": [],
   "source": [
    "def update_prob(num,prob):\n",
    "    ax1.cla()\n",
    "    ax2.cla()\n",
    "    ax1.plot(x, prob[num][0], label = '$|Ψ(x)|^2$', color = 'purple')\n",
    "    ax2.plot(x,U(x), alpha = 0.5, label = 'U(x)')\n",
    "    ax1.set_xlim([np.min(x),np.max(x)])\n",
    "    ax1.set_ylim([0,1.5])\n",
    "    ax2.set_ylim([0,100])\n",
    "    plt.title('Evolution of probability density (t = '+str(format(tvec[num],'.3f'))+' s)')\n",
    "    ax1.set_xlabel('x')\n",
    "    ax1.set_ylabel('$|Ψ(x)|^2$')\n",
    "    ax2.set_ylabel('U(x)')\n",
    "    plt.legend()"
   ]
  },
  {
   "cell_type": "code",
   "execution_count": null,
   "metadata": {},
   "outputs": [],
   "source": [
    "imP = plt.figure()\n",
    "ax1 = plt.subplot()\n",
    "ax2 = ax1.twinx()\n",
    "ax1.plot(x, prob[0][0], label = '$|Ψ(x)|^2$', color = 'purple')\n",
    "ax2.plot(x,U(x), alpha = 0.5, label = 'U(x)')\n",
    "animP = animation.FuncAnimation(imP, update_prob, range(np.size(tvec)), fargs = (prob, ), interval = 250)\n",
    "animP.save('prob.gif')"
   ]
  }
 ],
 "metadata": {
  "kernelspec": {
   "display_name": "QuantumChaos",
   "language": "python",
   "name": "python3"
  },
  "language_info": {
   "codemirror_mode": {
    "name": "ipython",
    "version": 3
   },
   "file_extension": ".py",
   "mimetype": "text/x-python",
   "name": "python",
   "nbconvert_exporter": "python",
   "pygments_lexer": "ipython3",
   "version": "3.9.13"
  },
  "orig_nbformat": 4,
  "vscode": {
   "interpreter": {
    "hash": "acfa70e34cb505bf3cae21ce846abafa5cd88f3188ee1ac752eec43f6bdb7512"
   }
  }
 },
 "nbformat": 4,
 "nbformat_minor": 2
}
