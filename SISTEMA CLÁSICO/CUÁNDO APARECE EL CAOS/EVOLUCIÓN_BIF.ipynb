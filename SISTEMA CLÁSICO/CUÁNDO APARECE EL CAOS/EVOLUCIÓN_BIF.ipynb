{
 "cells": [
  {
   "cell_type": "code",
   "execution_count": 39,
   "metadata": {},
   "outputs": [
    {
     "name": "stdout",
     "output_type": "stream",
     "text": [
      "The autoreload extension is already loaded. To reload it, use:\n",
      "  %reload_ext autoreload\n"
     ]
    }
   ],
   "source": [
    "%load_ext autoreload\n",
    "%autoreload 2\n",
    "\n",
    "import numpy as np\n",
    "import matplotlib.pyplot as plt\n",
    "import matplotlib.animation as animation\n",
    "import scipy as scipy\n",
    "from math import *"
   ]
  },
  {
   "cell_type": "code",
   "execution_count": 40,
   "metadata": {},
   "outputs": [],
   "source": [
    "x_0 = 1 # Posición inicial (arb)\n",
    "v_0 = 0 # Velocidad inicial (arb)"
   ]
  },
  {
   "cell_type": "code",
   "execution_count": 41,
   "metadata": {},
   "outputs": [],
   "source": [
    "w_0 = 0.5 # Frecuencia natural x>0\n",
    "amort = 0.125 # constante de amortiguamiento\n",
    "f_0 = 0.25 # Amplitud de la fuerza por unidad de masa"
   ]
  },
  {
   "cell_type": "code",
   "execution_count": 42,
   "metadata": {},
   "outputs": [],
   "source": [
    "dt = 0.01 # Paso de tiempo\n",
    "tf = 1000 # Tiempo de medida (se asume que t0 = 0)\n",
    "t = np.linspace(0,tf,int(tf/dt)+1) # Vector de instantes de tiempo"
   ]
  },
  {
   "cell_type": "code",
   "execution_count": 43,
   "metadata": {},
   "outputs": [],
   "source": [
    "dW_0 = 0.1 # paso en la frecuencia natural para x<0\n",
    "W_0 =  np.array([w_0+i*dW_0 for i in range(int(7.5/dW_0)+1)]) # Frecuencia natural para x<0\n",
    "#W_0 = np.array([0.5])"
   ]
  },
  {
   "cell_type": "code",
   "execution_count": 44,
   "metadata": {},
   "outputs": [],
   "source": [
    "dw = 0.05 # paso en la frecuencia externa\n",
    "w =  np.array([i*dw for i in range(int(0.5/dw),int(8.5/dw)+1)]) # Frecuencia fuerza externa"
   ]
  },
  {
   "cell_type": "code",
   "execution_count": 45,
   "metadata": {},
   "outputs": [],
   "source": [
    "def W(x,W_0): # frecuecia angular\n",
    "    return W_0 - (W_0-w_0)*np.heaviside(x,w_0)"
   ]
  },
  {
   "cell_type": "code",
   "execution_count": 46,
   "metadata": {},
   "outputs": [],
   "source": [
    "def EDO(t,y,w,W_0):\n",
    "    x,v = y\n",
    "    return [v,-2*amort*v-W(x,W_0)**2*x+f_0*np.cos(w*t)]"
   ]
  },
  {
   "cell_type": "code",
   "execution_count": 47,
   "metadata": {},
   "outputs": [],
   "source": [
    "def update_Bifurcation(n,xp):\n",
    "    plt.cla()\n",
    "    num = 50 # Número de puntos representados por cada w\n",
    "    for i in range(w.size):\n",
    "        plt.plot(w[i]*np.ones(num),np.array(xp[n][i],dtype=object)[-num:],'.',color='red',markersize='0.5',alpha=0.5)\n",
    "    plt.ylabel('x')\n",
    "    plt.xlabel('w')\n",
    "    plt.xlim(min(w),max(w))\n",
    "    plt.title('Diagrama de Bifurcación')\n",
    "    plt.suptitle('W_0 = '+str(format(W_0[n],'.2f')))"
   ]
  },
  {
   "cell_type": "code",
   "execution_count": 48,
   "metadata": {},
   "outputs": [],
   "source": [
    "xp = []\n",
    "vp = []\n",
    "pos = np.zeros([w.size,t.size,W_0.size])\n",
    "vel = np.zeros([w.size,t.size,W_0.size])\n",
    "\n",
    "for j in range(np.size(W_0)):\n",
    "    xpj = []\n",
    "    vpj = []\n",
    "    for i in range(np.size(w)):\n",
    "\n",
    "        sol = scipy.integrate.solve_ivp(EDO, [0,tf], [x_0,v_0], method = 'RK23',t_eval = t,args = [w[i],W_0[j]])\n",
    "        x,v = sol.y\n",
    "        pos[i,:,j] = x\n",
    "        vel[i,:,j] = v\n",
    "\n",
    "        T = 2*pi/w[i] # Periodo fuerza externa\n",
    "        n = int(tf/T) # Número de puntos del diagrama de Poincaré\n",
    "        ind = np.array([np.searchsorted(t,T*(i+1)) for i in range(n-1)]) # Calculamos los índices del diagrama de Poincaré\n",
    "        xpj.append(x[ind]) # Asignamos índices encontrados en tiempos con posiciones y velocidades (/max(x[ind]))\n",
    "        vpj.append(v[ind])\n",
    "    xp.append(xpj)\n",
    "    vp.append(vpj)"
   ]
  },
  {
   "cell_type": "code",
   "execution_count": null,
   "metadata": {},
   "outputs": [
    {
     "data": {
      "image/png": "[encoded data removed]",
      "text/plain": [
       "<Figure size 640x480 with 1 Axes>"
      ]
     },
     "metadata": {},
     "output_type": "display_data"
    }
   ],
   "source": [
    "num = 50 # Número de puntos representados por cada w\n",
    "im = plt.figure()\n",
    "for i in range(w.size):\n",
    "    plt.plot(w[i]*np.ones(num),np.array(xp[0][i],dtype=object)[-num:],'.',color='red',markersize='0.5',alpha=1)\n",
    "plt.ylabel('x')\n",
    "plt.xlabel('w')\n",
    "plt.xlim(min(w),max(w))\n",
    "plt.title('Diagrama de Bifurcación')\n",
    "plt.suptitle('W_0 = '+str(format(W_0[0],'.2f')))\n",
    "\n",
    "animP = animation.FuncAnimation(im, update_Bifurcation, np.size(W_0), fargs = (xp, ), interval = 250)\n",
    "animP.save('Evolución Bifurcación.gif')\n",
    "animP.save('Evolución Bifurcación.mp4')"
   ]
  }
 ],
 "metadata": {
  "kernelspec": {
   "display_name": "Python 3.9.13 ('QuantumChaos')",
   "language": "python",
   "name": "python3"
  },
  "language_info": {
   "codemirror_mode": {
    "name": "ipython",
    "version": 3
   },
   "file_extension": ".py",
   "mimetype": "text/x-python",
   "name": "python",
   "nbconvert_exporter": "python",
   "pygments_lexer": "ipython3",
   "version": "3.9.13"
  },
  "orig_nbformat": 4,
  "vscode": {
   "interpreter": {
    "hash": "acfa70e34cb505bf3cae21ce846abafa5cd88f3188ee1ac752eec43f6bdb7512"
   }
  }
 },
 "nbformat": 4,
 "nbformat_minor": 2
}
