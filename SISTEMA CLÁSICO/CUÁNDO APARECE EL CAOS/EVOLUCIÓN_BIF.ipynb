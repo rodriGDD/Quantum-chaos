{
 "cells": [
  {
   "cell_type": "markdown",
   "metadata": {},
   "source": [
    "OSCILADOR ARMÓNICO AMORTIGUADO FORZADO: Evolución del diagrama de bifurcación"
   ]
  },
  {
   "cell_type": "code",
   "execution_count": null,
   "metadata": {},
   "outputs": [],
   "source": [
    "%load_ext autoreload\n",
    "%autoreload 2\n",
    "\n",
    "import numpy as np\n",
    "import matplotlib.pyplot as plt\n",
    "import matplotlib.animation as animation\n",
    "import scipy as scipy\n",
    "from math import *"
   ]
  },
  {
   "cell_type": "markdown",
   "metadata": {},
   "source": [
    "VALORES NUMÉRICOS DEL PROBLEMA"
   ]
  },
  {
   "cell_type": "markdown",
   "metadata": {},
   "source": [
    "Condiciones iniciales"
   ]
  },
  {
   "cell_type": "code",
   "execution_count": null,
   "metadata": {},
   "outputs": [],
   "source": [
    "x_0 = 1 # Posición inicial (arb)\n",
    "v_0 = 0 # Velocidad inicial (arb)"
   ]
  },
  {
   "cell_type": "markdown",
   "metadata": {},
   "source": [
    "Parámetros del sistema"
   ]
  },
  {
   "cell_type": "code",
   "execution_count": null,
   "metadata": {},
   "outputs": [],
   "source": [
    "w_0 = 0.5 # Frecuencia natural x>0\n",
    "amort = 0.125 # constante de amortiguamiento\n",
    "f_0 = 0.25 # Amplitud de la fuerza por unidad de masa"
   ]
  },
  {
   "cell_type": "markdown",
   "metadata": {},
   "source": [
    "Medida del tiempo"
   ]
  },
  {
   "cell_type": "code",
   "execution_count": null,
   "metadata": {},
   "outputs": [],
   "source": [
    "dt = 0.01 # Paso de tiempo\n",
    "tf = 1000 # Tiempo de medida (se asume que t0 = 0)\n",
    "t = np.linspace(0,tf,int(tf/dt)+1) # Vector de instantes de tiempo"
   ]
  },
  {
   "cell_type": "markdown",
   "metadata": {},
   "source": [
    "Frencuencia angular natural para x<0"
   ]
  },
  {
   "cell_type": "code",
   "execution_count": null,
   "metadata": {},
   "outputs": [],
   "source": [
    "#dW_0 = 0.1 # paso en la frecuencia natural para x<0\n",
    "#W_0 =  np.array([w_0+i*dW_0 for i in range(int(7.5/dW_0)+1)]) # Frecuencia natural para x<0\n",
    "#W_0 = np.array([0.5,0.6,0.7,0.8,0.9,1,1.1,1.2,1.3,1.4,1.5,1.6,1.7,1.8,1.9,2.0,2.1,2.2,2.3,2.4,2.5,2.6,2.7,2.8,2.9,3.0,3.25,3.5,3.75,4,4.25,4.5,4.75,5,5.5,6,6.5,7,7.5,8])\n",
    "W_0 = np.array([4])"
   ]
  },
  {
   "cell_type": "markdown",
   "metadata": {},
   "source": [
    "Frencuencia angular de la fuerza externa"
   ]
  },
  {
   "cell_type": "code",
   "execution_count": null,
   "metadata": {},
   "outputs": [],
   "source": [
    "dw = 0.05 # paso en la frecuencia externa\n",
    "w =  np.array([i*dw for i in range(int(0.5/dw),int(4/dw)+1)]) # Frecuencia fuerza externa"
   ]
  },
  {
   "cell_type": "markdown",
   "metadata": {},
   "source": [
    "DEFINIMOS UNA FRECUENCIA NATURAL DEL OSCILADOR QUE DEPENDE DE LA POSICIÓN"
   ]
  },
  {
   "cell_type": "code",
   "execution_count": null,
   "metadata": {},
   "outputs": [],
   "source": [
    "def W(x,W_0): # frecuecia angular\n",
    "    return W_0 - (W_0-w_0)*np.heaviside(x,w_0)"
   ]
  },
  {
   "cell_type": "markdown",
   "metadata": {},
   "source": [
    "ECUACIÓN DIFERENCIAL"
   ]
  },
  {
   "cell_type": "code",
   "execution_count": null,
   "metadata": {},
   "outputs": [],
   "source": [
    "def EDO(t,y,w,W_0):\n",
    "    x,v = y\n",
    "    return [v,-2*amort*v-W(x,W_0)**2*x+f_0*np.cos(w*t)]"
   ]
  },
  {
   "cell_type": "markdown",
   "metadata": {},
   "source": [
    "CÁLCULO DEL MOVIMIENTO DEL SISTEMA"
   ]
  },
  {
   "cell_type": "code",
   "execution_count": null,
   "metadata": {},
   "outputs": [],
   "source": [
    "xp = []\n",
    "vp = []\n",
    "pos = np.zeros([w.size,t.size,W_0.size])\n",
    "vel = np.zeros([w.size,t.size,W_0.size])\n",
    "\n",
    "for j in range(np.size(W_0)):\n",
    "    xpj = []\n",
    "    vpj = []\n",
    "    for i in range(np.size(w)):\n",
    "\n",
    "        sol = scipy.integrate.solve_ivp(EDO, [0,tf], [x_0,v_0], method = 'RK23',t_eval = t,args = [w[i],W_0[j]])\n",
    "        x,v = sol.y\n",
    "        pos[i,:,j] = x\n",
    "        vel[i,:,j] = v\n",
    "\n",
    "        T = 2*pi/w[i] # Periodo fuerza externa\n",
    "        n = int(tf/T) # Número de puntos del diagrama de Poincaré\n",
    "        ind = np.array([np.searchsorted(t,T*(i+1)) for i in range(n-1)]) # Calculamos los índices del diagrama de Poincaré\n",
    "        xpj.append(x[ind]) # Asignamos índices encontrados en tiempos con posiciones y velocidades (/max(x[ind]))\n",
    "        vpj.append(v[ind])\n",
    "    xp.append(xpj)\n",
    "    vp.append(vpj)"
   ]
  },
  {
   "cell_type": "markdown",
   "metadata": {},
   "source": [
    "Representación gráfica de los diagramas de bifurcación"
   ]
  },
  {
   "cell_type": "code",
   "execution_count": null,
   "metadata": {},
   "outputs": [],
   "source": [
    "for j in range(np.size(W_0)):\n",
    "    plt.cla()\n",
    "    for i in range(w.size):\n",
    "        num = int(w[i]*100)\n",
    "        plt.plot(w[i]*np.ones(num),np.array(xp[j][i],dtype=object)[-num:],'.',color='red',markersize='1',alpha=1)\n",
    "    plt.ylabel('x (m)')\n",
    "    plt.xlabel('ω (s⁻¹)')\n",
    "    plt.xlim(min(w),max(w))\n",
    "    #plt.title('Diagrama de bifurcación de las posiciones')\n",
    "    plt.title('ω₀(x<0) = '+str(format(W_0[j],'.2f'))+' s⁻¹')\n",
    "    plt.savefig('ω₀ = '+str(format(W_0[j],'.2f'))+'.png')"
   ]
  },
  {
   "cell_type": "markdown",
   "metadata": {},
   "source": [
    "EVOLUCIÓN DEL DIAGRAMA DE BIFURCACIÓN SEGÚN ω₀ (x<0)"
   ]
  },
  {
   "cell_type": "markdown",
   "metadata": {},
   "source": [
    "Actualización del diagrama en cada frame de la animación"
   ]
  },
  {
   "cell_type": "code",
   "execution_count": null,
   "metadata": {},
   "outputs": [],
   "source": [
    "def update_Bifurcation(n,xp):\n",
    "    plt.cla()\n",
    "    num = 50 # Número de puntos representados por cada w\n",
    "    for i in range(w.size):\n",
    "        plt.plot(w[i]*np.ones(num),np.array(xp[n][i],dtype=object)[-num:],'.',color='red',markersize='0.5',alpha=0.5)\n",
    "    plt.ylabel('x (m)')\n",
    "    plt.xlabel('ω (s⁻¹)')\n",
    "    plt.xlim(min(w),max(w))\n",
    "    plt.title('Evolución del diagrama de bifurcación')\n",
    "    plt.suptitle('ω₀ = '+str(w_0)+' s⁻¹ (x>0); ω₀ = '+str(format(W_0[n],'.2f'))+' s⁻¹ (x>0)')\n",
    "    "
   ]
  },
  {
   "cell_type": "markdown",
   "metadata": {},
   "source": [
    "Representación de resultados mediante animación"
   ]
  },
  {
   "cell_type": "code",
   "execution_count": null,
   "metadata": {},
   "outputs": [],
   "source": [
    "num = 50 # Número de puntos representados por cada w\n",
    "im = plt.figure()\n",
    "for i in range(w.size):\n",
    "    plt.plot(w[i]*np.ones(num),np.array(xp[0][i],dtype=object)[-num:],'.',color='red',markersize='0.5',alpha=1)\n",
    "plt.ylabel('x (m)')\n",
    "plt.xlabel('ω (s⁻¹)')\n",
    "plt.xlim(min(w),max(w))\n",
    "plt.title('Evolución del diagrama de bifurcación')\n",
    "plt.suptitle('ω₀ = '+str(w_0)+' s⁻¹ (x>0); ω₀ = '+str(format(W_0[0],'.2f'))+' s⁻¹ (x>0)')\n",
    "\n",
    "animP = animation.FuncAnimation(im, update_Bifurcation, np.size(W_0), fargs = (xp, ), interval = 150)\n",
    "animP.save('Evolución Bifurcación.gif')\n",
    "animP.save('Evolución Bifurcación.mp4')"
   ]
  }
 ],
 "metadata": {
  "kernelspec": {
   "display_name": "Python 3.9.13 ('QuantumChaos')",
   "language": "python",
   "name": "python3"
  },
  "language_info": {
   "codemirror_mode": {
    "name": "ipython",
    "version": 3
   },
   "file_extension": ".py",
   "mimetype": "text/x-python",
   "name": "python",
   "nbconvert_exporter": "python",
   "pygments_lexer": "ipython3",
   "version": "3.9.13"
  },
  "orig_nbformat": 4,
  "vscode": {
   "interpreter": {
    "hash": "acfa70e34cb505bf3cae21ce846abafa5cd88f3188ee1ac752eec43f6bdb7512"
   }
  }
 },
 "nbformat": 4,
 "nbformat_minor": 2
}
