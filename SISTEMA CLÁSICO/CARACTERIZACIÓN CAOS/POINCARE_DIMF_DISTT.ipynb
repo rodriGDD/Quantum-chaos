{
 "cells": [
  {
   "cell_type": "markdown",
   "metadata": {},
   "source": [
    "OSCILADOR ARMÓNICO AMORTIGUADO FORZADO: Diagramas de Poincaré, dimensión fractal y distribución de tiempos"
   ]
  },
  {
   "cell_type": "code",
   "execution_count": null,
   "metadata": {},
   "outputs": [],
   "source": [
    "%load_ext autoreload\n",
    "%autoreload 2\n",
    "\n",
    "import numpy as np\n",
    "import matplotlib.pyplot as plt\n",
    "import matplotlib.animation as animation\n",
    "import scipy as scipy\n",
    "from math import *"
   ]
  },
  {
   "cell_type": "markdown",
   "metadata": {},
   "source": [
    "VALORES NUMÉRICOS DEL PROBLEMA"
   ]
  },
  {
   "cell_type": "markdown",
   "metadata": {},
   "source": [
    "Condiciones iniciales"
   ]
  },
  {
   "cell_type": "code",
   "execution_count": null,
   "metadata": {},
   "outputs": [],
   "source": [
    "x_0 = 1 # Posición inicial\n",
    "v_0 = 0 # Velocidad inicial"
   ]
  },
  {
   "cell_type": "markdown",
   "metadata": {},
   "source": [
    "Parámetros del sistema"
   ]
  },
  {
   "cell_type": "code",
   "execution_count": null,
   "metadata": {},
   "outputs": [],
   "source": [
    "w_0 = 0.5 # Frecuencia natural x>0\n",
    "W_0 = 100 # Frecuencia natural x<0\n",
    "amort = 0.125 # Constante de amortiguamiento\n",
    "f_0 = 0.25 # Amplitud de la fuerza por unidad de masa"
   ]
  },
  {
   "cell_type": "markdown",
   "metadata": {},
   "source": [
    "Medida del tiempo"
   ]
  },
  {
   "cell_type": "code",
   "execution_count": null,
   "metadata": {},
   "outputs": [],
   "source": [
    "dt = 0.001 # Paso de tiempo\n",
    "tf = 5000 # Tiempo de medida (se asume que t0 = 0)\n",
    "t = np.linspace(0,tf,int(tf/dt)+1) # Vector de instantes de tiempo"
   ]
  },
  {
   "cell_type": "markdown",
   "metadata": {},
   "source": [
    "Frencuencia angular de la fuerza externa"
   ]
  },
  {
   "cell_type": "code",
   "execution_count": null,
   "metadata": {},
   "outputs": [],
   "source": [
    "dw = 0.001 # paso en la frecuencia externa\n",
    "w =  np.array([i*dw for i in range(int(12*0.1/dw),int(1.6/dw)+1)]) # Frecuencia fuerza externa"
   ]
  },
  {
   "cell_type": "markdown",
   "metadata": {},
   "source": [
    "DEFINIMOS UNA FRECUENCIA NATURAL DEL OSCILADOR QUE DEPENDE DE LA POSICIÓN"
   ]
  },
  {
   "cell_type": "code",
   "execution_count": null,
   "metadata": {},
   "outputs": [],
   "source": [
    "def W(x): # frecuecia angular\n",
    "    return W_0 - (W_0-w_0)*np.heaviside(x,w_0)\n",
    "\n",
    "rep = np.linspace(-5,5,5000)\n",
    "plt.plot(rep,W(rep)) # Representación gráfica de la frecuencia natural\n",
    "plt.title('Frencuencia natural del oscilador')\n",
    "plt.xlabel('x (m)')\n",
    "plt.ylabel('Ω₀ (s⁻¹)')\n",
    "plt.xlim([min(rep),max(rep)])\n",
    "plt.savefig('Frecuencia natural.png')\n",
    "plt.show()"
   ]
  },
  {
   "cell_type": "markdown",
   "metadata": {},
   "source": [
    "POTENCIAL DEL OSCILADOR"
   ]
  },
  {
   "cell_type": "code",
   "execution_count": null,
   "metadata": {},
   "outputs": [],
   "source": [
    "U = (1/2)*W(rep)**2*rep**2\n",
    "rep = np.linspace(-5,5,5000)\n",
    "\n",
    "plt.plot(rep,U)\n",
    "plt.title('Potencial del oscilador')\n",
    "plt.xlabel('x (m)')\n",
    "plt.ylabel('U (J)')\n",
    "plt.xlim([min(rep),max(rep)])\n",
    "plt.ylim([min(U),(1/2)*W(max(rep))**2*max(rep)**2])\n",
    "#plt.text(-4,2,'Ω₀ = '+str(w_0)+' s⁻¹ si x>0')\n",
    "#plt.text(-4,1.8,'Ω₀ = '+str(W_0)+' s⁻¹ si x<0')\n",
    "plt.savefig('Figura potencial del oscilador.png')\n",
    "plt.show()"
   ]
  },
  {
   "cell_type": "markdown",
   "metadata": {},
   "source": [
    "ECUACIÓN DIFERENCIAL"
   ]
  },
  {
   "cell_type": "code",
   "execution_count": null,
   "metadata": {},
   "outputs": [],
   "source": [
    "def EDO(t,y,w):\n",
    "    x,v = y\n",
    "    return [v,-2*amort*v-W(x)**2*x+f_0*np.cos(w*t)]"
   ]
  },
  {
   "cell_type": "markdown",
   "metadata": {},
   "source": [
    "CÁLCULO DE LOS INTERVALOS DE TIEMPO ENTRE CHOQUES SUCESIVOS"
   ]
  },
  {
   "cell_type": "code",
   "execution_count": null,
   "metadata": {},
   "outputs": [],
   "source": [
    "def time_intervals(x):\n",
    "    v = x.copy()\n",
    "    bin = v[1:(t.size-1)]\n",
    "    bin[[v[i]*v[i-1]>0 for i in range(1,t.size-1)]] = 0\n",
    "    bin[bin<0] = -1\n",
    "    bin[bin>0] = 1\n",
    "    v[v.size-1] = -1\n",
    "\n",
    "    tindpos = np.where(v > 0)[0]\n",
    "    tindneg = np.where(v < 0)[0]\n",
    "\n",
    "    return (tindneg-tindpos)[1:(len(tindneg-tindpos)-1)]*dt"
   ]
  },
  {
   "cell_type": "markdown",
   "metadata": {},
   "source": [
    "CÁLCULO DEL MOVIMIENTO DEL SISTEMA"
   ]
  },
  {
   "cell_type": "markdown",
   "metadata": {},
   "source": [
    "Integración de la EDO"
   ]
  },
  {
   "cell_type": "code",
   "execution_count": null,
   "metadata": {},
   "outputs": [],
   "source": [
    "pos = []\n",
    "vel = []\n",
    "xp = []\n",
    "vp = []\n",
    "tdist = []\n",
    "\n",
    "for i in range(np.size(w)):\n",
    "    sol = scipy.integrate.solve_ivp(EDO, [0,tf], [x_0,v_0], method = 'RK23',t_eval = t,args = [w[i]])\n",
    "    x,v = sol.y\n",
    "    pos.append(x)\n",
    "    vel.append(v)\n",
    "\n",
    "    T = 2*pi/w[i] # Periodo fuerza externa\n",
    "    n = int(tf/T) # Número de puntos del diagrama de Poincaré\n",
    "    ind = np.array([np.searchsorted(t,T*(i+1)) for i in range(n-1)]) # Calculamos los índices del diagrama de Poincaré\n",
    "    xp.append(x[ind]) # Asignamos índices encontrados en tiempos con posiciones y velocidades (/max(x[ind]))\n",
    "    vp.append(v[ind])\n",
    "\n",
    "    tdist.append(time_intervals(x)) # Calculamos los intervalos de tiempo entre choques"
   ]
  },
  {
   "cell_type": "markdown",
   "metadata": {},
   "source": [
    "DIMENSIÓN FRACTAL"
   ]
  },
  {
   "cell_type": "markdown",
   "metadata": {},
   "source": [
    "Método de Box Counting"
   ]
  },
  {
   "cell_type": "code",
   "execution_count": null,
   "metadata": {},
   "outputs": [],
   "source": [
    "def FractalDimension(xp,vp,w): # Función que calcula la dimensión fractal de una imagen\n",
    "    fig = plt.figure()\n",
    "    plt.plot(xp[50:],vp[50:],'.',color='red',markersize='1')\n",
    "    plt.axis('off')\n",
    "    plt.xlim([min(xp)-0.1,max(xp)])\n",
    "    plt.ylim([min(vp)-0.1,max(vp)])\n",
    "    plt.savefig('Poincaré ω = '+str(format(w,'.3f'))+'.png', transparent=True)\n",
    "    plt.close(fig)\n",
    "    image = plt.imread('Poincaré ω = '+str(format(w,'.3f'))+'.png')[:,:,3]\n",
    "    \n",
    "    Lx = image.shape[0]\n",
    "    Ly = image.shape[1]\n",
    "    pixels=[]\n",
    "    Ns=[]\n",
    "    E = np.logspace(0, 2, num = 100, endpoint=False, base=2)\n",
    "    #E = [0.01,0.1,0.5,1,2,4,8,16,32]\n",
    "\n",
    "    for i in range(Lx):\n",
    "        for j in range(Ly):\n",
    "            if image[i,j] > 0:\n",
    "                pixels.append((i,j))\n",
    "\n",
    "    pixels=np.array(pixels)\n",
    "    \n",
    "    for eps in E:\n",
    "        Box, ejes = np.histogramdd(pixels, bins=(np.arange(0,Lx,eps),np.arange(0,Ly,eps)))\n",
    "        Ns.append(np.sum(Box>0))\n",
    "    fig2 = plt.figure()\n",
    "    plt.plot(np.log(E),np.log(Ns),'.')\n",
    "    plt.close(fig2)\n",
    "    sol = np.polyfit(np.log(E),np.log(Ns),1,full=True)\n",
    "    dF = -sol[0][0]\n",
    "    r = sol[1]\n",
    "    \n",
    "    if r > 0.2:\n",
    "        return nan,nan\n",
    "    else:\n",
    "        return dF,r"
   ]
  },
  {
   "cell_type": "markdown",
   "metadata": {},
   "source": [
    "Cálculo de la dimensión fractal"
   ]
  },
  {
   "cell_type": "code",
   "execution_count": null,
   "metadata": {},
   "outputs": [],
   "source": [
    "df = np.zeros(np.size(w))\n",
    "res = np.zeros(np.size(w))\n",
    "\n",
    "for i in range(np.size(w)):\n",
    "    df[i],res[i] = FractalDimension(xp[i],vp[i],w[i])"
   ]
  },
  {
   "cell_type": "markdown",
   "metadata": {},
   "source": [
    "EVOLUCIÓN DEL DIAGRAMA DE POINCARÉ CON W"
   ]
  },
  {
   "cell_type": "markdown",
   "metadata": {},
   "source": [
    "Actualización del diagrama en cada frame de la animación"
   ]
  },
  {
   "cell_type": "code",
   "execution_count": null,
   "metadata": {},
   "outputs": [],
   "source": [
    "def update_Poincare(num,xp,vp):\n",
    "    plt.cla()\n",
    "    plt.plot(xp[num][50:],vp[num][50:],'.',color='red',markersize='1')\n",
    "    plt.xlim([-0.05,0.4])\n",
    "    plt.ylim([-0.25,0.4])\n",
    "    plt.title('Evolución del diagrama de Poincaré con ω')\n",
    "    plt.xlabel('x (m)')\n",
    "    plt.ylabel('v (m/s)')\n",
    "    plt.suptitle('ω = '+str(format(w[num],'.3f'))+' s⁻¹')"
   ]
  },
  {
   "cell_type": "markdown",
   "metadata": {},
   "source": [
    "Representación de resultados mediante animación"
   ]
  },
  {
   "cell_type": "code",
   "execution_count": null,
   "metadata": {},
   "outputs": [],
   "source": [
    "im = plt.figure()\n",
    "fig = plt.plot(xp[0][50:],vp[0][50:],'.',color='red',markersize='1')\n",
    "plt.xlim([-0.05,0.4])\n",
    "plt.ylim([-0.25,0.4])\n",
    "plt.title('Evolución del diagrama de Poincaré con ω')\n",
    "plt.xlabel('x (m)')\n",
    "plt.ylabel('v (m/s)')\n",
    "plt.suptitle('ω = '+str(format(w[0],'.3f'))+' s⁻¹')\n",
    "\n",
    "animP = animation.FuncAnimation(im, update_Poincare, np.size(w), fargs = (xp,vp, ), interval = 100)\n",
    "animP.save('Evolución Poincaré ω.gif')\n",
    "animP.save('Evolución Poincaré ω.mp4')"
   ]
  },
  {
   "cell_type": "markdown",
   "metadata": {},
   "source": [
    "DIAGRAMA DE POINCARÉ SEGÚN EL INSTANTE DE TIEMPO EN EL QUE SE REGISTREN LOS PUNTOS (INDEPENDIENTE DEL RESTO DEL CÓDIGO)"
   ]
  },
  {
   "cell_type": "markdown",
   "metadata": {},
   "source": [
    "Solución del movimiento para una frecuencia en el régimen caótico"
   ]
  },
  {
   "cell_type": "code",
   "execution_count": null,
   "metadata": {},
   "outputs": [],
   "source": [
    "wT = 1.411\n",
    "tfT = 50000\n",
    "tT = np.linspace(0,tfT,int(tfT/dt)+1)\n",
    "xpT = []\n",
    "vpT = []\n",
    "\n",
    "solT = scipy.integrate.solve_ivp(EDO, [0,tfT], [x_0,v_0], method = 'RK23',t_eval = tT,args = [wT])\n",
    "xT,vT = solT.y"
   ]
  },
  {
   "cell_type": "code",
   "execution_count": null,
   "metadata": {},
   "outputs": [],
   "source": [
    "TT = 2*pi/wT # Periodo fuerza externa\n",
    "nT = int(tfT/TT) # Número de puntos del diagrama de Poincaré\n",
    "\n",
    "for j in range(int(np.round(TT*10))):\n",
    "    indT = np.array([np.searchsorted(tT,TT*(i+1)+j*0.1) for i in range(nT-1)]) # Calculamos los índices del diagrama de Poincaré\n",
    "    xpT.append(xT[indT]) # Asignamos índices encontrados en tiempos con posiciones y velocidades (/max(x[ind]))\n",
    "    vpT.append(vT[indT])"
   ]
  },
  {
   "cell_type": "markdown",
   "metadata": {},
   "source": [
    "DISTRIBUCIÓN DE INTERVALOS DE TIEMPO"
   ]
  },
  {
   "cell_type": "code",
   "execution_count": null,
   "metadata": {},
   "outputs": [],
   "source": [
    "num_bin = 8000\n",
    "tdist_hist = np.zeros([w.size,num_bin])\n",
    "\n",
    "for i in range(w.size):\n",
    "    tdist_hist[i,:] = np.histogram(tdist[i], bins = num_bin, range = [0,8], density = True)[0]"
   ]
  },
  {
   "cell_type": "markdown",
   "metadata": {},
   "source": [
    "ALMACENAMIENTO DE DATOS"
   ]
  },
  {
   "cell_type": "code",
   "execution_count": null,
   "metadata": {},
   "outputs": [],
   "source": [
    "fracdim = np.column_stack([df,res,w])\n",
    "np.savetxt('dimensión_fractal.txt',fracdim)"
   ]
  },
  {
   "cell_type": "code",
   "execution_count": null,
   "metadata": {},
   "outputs": [],
   "source": [
    "for i in range(w.size):\n",
    "    np.savetxt('xp ω = '+str(format(w[i],'.3f'))+'.txt',xp[i])\n",
    "    np.savetxt('vp ω = '+str(format(w[i],'.3f'))+'.txt',vp[i])\n",
    "    np.savetxt('tdist ω = '+str(format(w[i],'.3f'))+'.txt',tdist_hist[i])"
   ]
  },
  {
   "cell_type": "code",
   "execution_count": null,
   "metadata": {},
   "outputs": [],
   "source": [
    "for i in range(int(np.round(TT*10))):\n",
    "    np.savetxt('xpT T + '+str(format(i*0.1,'.1f'))+'.txt',xpT[i])\n",
    "    np.savetxt('vpT T + '+str(format(i*0.1,'.1f'))+'.txt',vpT[i])"
   ]
  }
 ],
 "metadata": {
  "kernelspec": {
   "display_name": "Python 3.9.13 ('QuantumChaos')",
   "language": "python",
   "name": "python3"
  },
  "language_info": {
   "codemirror_mode": {
    "name": "ipython",
    "version": 3
   },
   "file_extension": ".py",
   "mimetype": "text/x-python",
   "name": "python",
   "nbconvert_exporter": "python",
   "pygments_lexer": "ipython3",
   "version": "3.9.13"
  },
  "orig_nbformat": 4,
  "vscode": {
   "interpreter": {
    "hash": "acfa70e34cb505bf3cae21ce846abafa5cd88f3188ee1ac752eec43f6bdb7512"
   }
  }
 },
 "nbformat": 4,
 "nbformat_minor": 2
}
