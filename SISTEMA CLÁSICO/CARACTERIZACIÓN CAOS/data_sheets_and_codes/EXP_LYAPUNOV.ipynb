{
 "cells": [
  {
   "cell_type": "markdown",
   "metadata": {},
   "source": [
    "OSCILADOR ARMÓNICO AMORTIGUADO FORZADO: Exponentes de Lyapunov"
   ]
  },
  {
   "cell_type": "code",
   "execution_count": null,
   "metadata": {},
   "outputs": [],
   "source": [
    "%load_ext autoreload\n",
    "%autoreload 2\n",
    "\n",
    "import numpy as np\n",
    "import matplotlib.pyplot as plt\n",
    "import scipy as scipy\n",
    "from math import *"
   ]
  },
  {
   "cell_type": "markdown",
   "metadata": {},
   "source": [
    "VALORES NUMÉRICOS DEL PROBLEMA"
   ]
  },
  {
   "cell_type": "markdown",
   "metadata": {},
   "source": [
    "Condiciones iniciales"
   ]
  },
  {
   "cell_type": "code",
   "execution_count": null,
   "metadata": {},
   "outputs": [],
   "source": [
    "x_0 = 1 # Posición inicial\n",
    "v_0 = 0 # Velocidad inicial"
   ]
  },
  {
   "cell_type": "markdown",
   "metadata": {},
   "source": [
    "Parámetros del sistema"
   ]
  },
  {
   "cell_type": "code",
   "execution_count": null,
   "metadata": {},
   "outputs": [],
   "source": [
    "w_0 = 0.5 # Frecuencia natural x>0\n",
    "W_0 = 100 # Frecuencia natural x<0\n",
    "amort = 0.125 # constante de amortiguamiento\n",
    "f_0 = 0.25 # Amplitud de la fuerza por unidad de masa"
   ]
  },
  {
   "cell_type": "markdown",
   "metadata": {},
   "source": [
    "Medida del tiempo"
   ]
  },
  {
   "cell_type": "code",
   "execution_count": null,
   "metadata": {},
   "outputs": [],
   "source": [
    "dt = 0.001 # Paso de tiempo\n",
    "tf = 500 # Tiempo de medida (se asume que t0 = 0)\n",
    "t = np.linspace(0,tf,int(tf/dt)+1) # Vector de instantes de tiempo"
   ]
  },
  {
   "cell_type": "markdown",
   "metadata": {},
   "source": [
    "Frencuencia angular de la fuerza externa"
   ]
  },
  {
   "cell_type": "code",
   "execution_count": null,
   "metadata": {},
   "outputs": [],
   "source": [
    "dw = 0.001 # paso en la frecuencia externa\n",
    "w =  np.array([i*dw for i in range(round(1.2/dw),round(1.6/dw)+1)]) # Frecuencia fuerza externa\n",
    "#w = np.array([1.53])"
   ]
  },
  {
   "cell_type": "markdown",
   "metadata": {},
   "source": [
    "DEFINIMOS UNA FRECUENCIA NATURAL DEL OSCILADOR QUE DEPENDE DE LA POSICIÓN"
   ]
  },
  {
   "cell_type": "code",
   "execution_count": null,
   "metadata": {},
   "outputs": [],
   "source": [
    "def W(x): # frecuecia angular\n",
    "    return W_0 - (W_0-w_0)*np.heaviside(x,w_0)"
   ]
  },
  {
   "cell_type": "markdown",
   "metadata": {},
   "source": [
    "ECUACIÓN DIFERENCIAL"
   ]
  },
  {
   "cell_type": "code",
   "execution_count": null,
   "metadata": {},
   "outputs": [],
   "source": [
    "def EDO(x,y,w):\n",
    "    return np.array([y[1],-2*amort*y[1]-W(y[0])**2*y[0]+f_0*np.cos(w*x)])"
   ]
  },
  {
   "cell_type": "markdown",
   "metadata": {},
   "source": [
    "MÉTODO DE RESOLUCIÓN NUMÉRICA DE LA EC. DIFERENCIAL RK4"
   ]
  },
  {
   "cell_type": "code",
   "execution_count": null,
   "metadata": {},
   "outputs": [],
   "source": [
    "def RK4(EDO, x0, y0, xf, h, w):\n",
    "\n",
    "    # EDO: Array de ecuaciones diferenciales de primer orden\n",
    "    # x0: valor inicial de la variable independiente\n",
    "    # y0: valor de la variable dependiente evaluada en x = x0 (condición inicial si x=0)\n",
    "    # xf: valor final de la variable independiente\n",
    "    # h: tamaño del paso\n",
    "    # w: frecuencia externa\n",
    "\n",
    "    m = 2\n",
    "\n",
    "    n = round((xf-x0)/h)+1 # Calculamos el número de puntos\n",
    "    \n",
    "    x = np.empty(n) # Creamos arrays donde almacenar la solución\n",
    "    y = np.empty([n,m])\n",
    "    k1,k2,k3,k4= np.empty(m),np.empty(m),np.empty(m),np.empty(m)\n",
    "\n",
    "    x[0] = x0 # Aplicamos las condiciones iniciales\n",
    "    for j in range(m):\n",
    "        y[0,j] = y0[j]\n",
    "    \n",
    "    for i in range(n-1): # Implementamos el método RK4\n",
    "        x[i] = x0+i*h\n",
    "        for j in range(m):\n",
    "            k1[j] = h*EDO(x[i],y[i,:],w)[j]\n",
    "        for j in range(m):\n",
    "            k2[j] = h*EDO(x[i]+0.5*h,y[i]+0.5*k1,w)[j]\n",
    "        for j in range(m):\n",
    "            k3[j] = h*EDO(x[i]+0.5*h,y[i]+0.5*k2,w)[j]\n",
    "        for j in range(m):\n",
    "            k4[j] = h*EDO(x[i]+h,y[i]+k3,w)[j]\n",
    "        for j in range(m):\n",
    "            y[i+1,j] = y[i,j]+(1/6)*(k1[j]+2*k2[j]+2*k3[j]+k4[j]);\n",
    "\n",
    "    x[n-1] = xf\n",
    "            \n",
    "    return x,y"
   ]
  },
  {
   "cell_type": "markdown",
   "metadata": {},
   "source": [
    "CÁLCULO DEL EXPONENTE DE LYAPUNOV"
   ]
  },
  {
   "cell_type": "markdown",
   "metadata": {},
   "source": [
    "Función que calcula el exponente de Lyapunov para unos parámetros del sistema dados"
   ]
  },
  {
   "cell_type": "code",
   "execution_count": null,
   "metadata": {},
   "outputs": [],
   "source": [
    "def Lyapunov_exponent(N,w,eps,x_0,v_0):\n",
    "    \n",
    "    z = np.zeros([N,2])\n",
    "    zp = np.zeros([N,2])\n",
    "    d = np.zeros(N)\n",
    "    loglist = np.zeros(N)\n",
    "\n",
    "    z[0] = [x_0,v_0]\n",
    "    zp[0] = [x_0+eps/sqrt(2),v_0+eps/sqrt(2)]\n",
    "    d[0] = eps\n",
    "    ts,y = RK4(EDO,0,z[0],tf,dt,w) # Resolvemos el sistema\n",
    "    tL,yL = RK4(EDO,0,zp[0],tf,dt,w) # Resolvemos el sistema\n",
    "    pos = y[:,0]\n",
    "    vel = y[:,1]\n",
    "    posL = yL[:,0]\n",
    "    velL = yL[:,1]\n",
    "    for i in range(1,N):\n",
    "        #ts,y = RK4(EDO,dt*(i-1),z[i-1],dt*i,dt,w) # Resolvemos el sistema\n",
    "        #pos = y[:,0]\n",
    "        #vel = y[:,1]\n",
    "        #tL,yL = RK4(EDO,dt*(i-1),zp[i-1],dt*i,dt,w) # Resolvemos el sistema\n",
    "        #posL = yL[:,0]\n",
    "        #velL = yL[:,1]\n",
    "        z[i] = [pos[i],vel[i]]\n",
    "        zp[i] = [posL[i],velL[i]]\n",
    "        d[i] = np.linalg.norm(z[i]-zp[i])\n",
    "        loglist[i] = np.log(d[i]/eps)\n",
    "        #zp[i] = z[i]+(eps/d[i])*(-z[i]+zp[i])\n",
    "\n",
    "    return [np.mean((loglist/t)[-int(N/10):]),np.std((loglist/t)[-int(N/10):])]"
   ]
  },
  {
   "cell_type": "markdown",
   "metadata": {},
   "source": [
    "Desplazamiento de las trayectorias"
   ]
  },
  {
   "cell_type": "code",
   "execution_count": null,
   "metadata": {},
   "outputs": [],
   "source": [
    "def eps(w): # Se define así para optimizar el cálculo\n",
    "    if w < 1.525 or w >= 1.577:\n",
    "        return 1e-3\n",
    "    elif w >= 1.525 or w <= 1.545:\n",
    "        return 1e-4\n",
    "    else:\n",
    "        return 1e-5"
   ]
  },
  {
   "cell_type": "markdown",
   "metadata": {},
   "source": [
    "Cálculo de resultados"
   ]
  },
  {
   "cell_type": "code",
   "execution_count": null,
   "metadata": {},
   "outputs": [],
   "source": [
    "N = len(t)\n",
    "lyap = np.zeros(np.size(w))\n",
    "disp = np.zeros(np.size(w))\n",
    "\n",
    "for i in range(np.size(w)):\n",
    "    lyap[i],disp[i] = Lyapunov_exponent(N,w[i],eps(w[i]),x_0,v_0)"
   ]
  },
  {
   "cell_type": "markdown",
   "metadata": {},
   "source": [
    "Almacenamiento de datos"
   ]
  },
  {
   "cell_type": "code",
   "execution_count": null,
   "metadata": {},
   "outputs": [],
   "source": [
    "explyap = np.column_stack([lyap,disp,w])\n",
    "np.savetxt('explyap.txt',explyap)"
   ]
  }
 ],
 "metadata": {
  "kernelspec": {
   "display_name": "Python 3.9.13 ('QuantumChaos')",
   "language": "python",
   "name": "python3"
  },
  "language_info": {
   "codemirror_mode": {
    "name": "ipython",
    "version": 3
   },
   "file_extension": ".py",
   "mimetype": "text/x-python",
   "name": "python",
   "nbconvert_exporter": "python",
   "pygments_lexer": "ipython3",
   "version": "3.9.13"
  },
  "orig_nbformat": 4,
  "vscode": {
   "interpreter": {
    "hash": "acfa70e34cb505bf3cae21ce846abafa5cd88f3188ee1ac752eec43f6bdb7512"
   }
  }
 },
 "nbformat": 4,
 "nbformat_minor": 2
}
