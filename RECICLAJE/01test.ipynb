{
 "cells": [
  {
   "cell_type": "code",
   "execution_count": 1,
   "metadata": {},
   "outputs": [],
   "source": [
    "from qutip import *\n",
    "import math as math\n",
    "import numpy as np\n",
    "import matplotlib.pyplot as plt\n",
    "import matplotlib as mpl\n",
    "from matplotlib import cm\n",
    "import scipy as scipy\n",
    "import matplotlib.animation as animation\n",
    "from tqdm import tqdm\n",
    "import sys\n",
    "import matplotlib.gridspec as gridspec"
   ]
  },
  {
   "cell_type": "code",
   "execution_count": 2,
   "metadata": {},
   "outputs": [],
   "source": [
    "def cov(x,y):\n",
    "    q = np.size(x)\n",
    "    return (1/q)*np.sum((x-np.mean(x))*(y-np.mean(y)))"
   ]
  },
  {
   "cell_type": "code",
   "execution_count": 3,
   "metadata": {},
   "outputs": [],
   "source": [
    "def chaos_test(O):\n",
    "    \n",
    "    N = np.size(O)\n",
    "    N_0 = int(N/10)\n",
    "    x = np.linspace(1,N,N)\n",
    "    t = np.linspace(1,N_0,N_0)\n",
    "    c = np.linspace(0.1,np.pi/2-0.1,100)\n",
    "    K = np.zeros(np.size(c))\n",
    "    E = np.mean(O)\n",
    "    sigma = 0\n",
    "    noise = np.random.choice(np.linspace(-0.5,0.5,N), size = N_0)\n",
    "    \n",
    "    for i in range(np.size(c)):\n",
    "    \n",
    "        p = np.zeros(2*N)\n",
    "        q = np.zeros(2*N)\n",
    "        M = np.zeros(N_0)\n",
    "        V = np.zeros(N_0)\n",
    "        \n",
    "        for n in range(1,N):\n",
    "            p[n] = p[n-1] + O[n]*np.cos(c[i]*n)\n",
    "            q[n] = q[n-1] + O[n]*np.sin(c[i]*n)\n",
    "       \n",
    "        for n in range(1,N_0):\n",
    "            V[n] = E**2*((1-np.cos(n*c[i]))/(1-np.cos(c[i])))\n",
    "            aux = np.zeros(N-N_0)\n",
    "            for j in range(1,N-N_0):\n",
    "                aux[j] = (p[n+j]-p[j])**2+(q[n+j]-q[j])**2\n",
    "            M[n] = np.mean(aux)+sigma*noise[n]\n",
    "        \n",
    "        D = M-V\n",
    "        K[i] = cov(t,D)/np.sqrt(cov(t,t)*cov(D,D))\n",
    "    #plt.plot(c,K,'.')\n",
    "    \n",
    "    return np.median(K)"
   ]
  },
  {
   "cell_type": "code",
   "execution_count": 4,
   "metadata": {},
   "outputs": [
    {
     "data": {
      "text/plain": [
       "\"\\n# EXAMEN PARA COMPROBAR QUE EL TEST 0-1 FUNCIONA #\\n\\ncha = np.zeros([1000,25])\\ncha[0] = 0.5\\ncoef = np.linspace(3.5,3.7,25)\\nfor m in range(25):\\n    for n in range(1,1000):\\n        cha[n,m] = coef[m]*cha[n-1,m]*(1-cha[n-1,m])\\n\\nr = np.zeros(25)\\nfor i in tqdm(range(25)):\\n    r[i] = chaos_test(cha[:,i])\\n\\nplt.plot(coef,r,'.')\\nplt.ylim([0,1])\\n\""
      ]
     },
     "execution_count": 4,
     "metadata": {},
     "output_type": "execute_result"
    }
   ],
   "source": [
    "'''\n",
    "# EXAMEN PARA COMPROBAR QUE EL TEST 0-1 FUNCIONA #\n",
    "\n",
    "cha = np.zeros([1000,25])\n",
    "cha[0] = 0.5\n",
    "coef = np.linspace(3.5,3.7,25)\n",
    "for m in range(25):\n",
    "    for n in range(1,1000):\n",
    "        cha[n,m] = coef[m]*cha[n-1,m]*(1-cha[n-1,m])\n",
    "\n",
    "r = np.zeros(25)\n",
    "for i in tqdm(range(25)):\n",
    "    r[i] = chaos_test(cha[:,i])\n",
    "\n",
    "plt.plot(coef,r,'.')\n",
    "plt.ylim([0,1])\n",
    "'''"
   ]
  }
 ],
 "metadata": {
  "kernelspec": {
   "display_name": "QuantumChaos",
   "language": "python",
   "name": "python3"
  },
  "language_info": {
   "codemirror_mode": {
    "name": "ipython",
    "version": 3
   },
   "file_extension": ".py",
   "mimetype": "text/x-python",
   "name": "python",
   "nbconvert_exporter": "python",
   "pygments_lexer": "ipython3",
   "version": "3.9.13"
  },
  "orig_nbformat": 4
 },
 "nbformat": 4,
 "nbformat_minor": 2
}
